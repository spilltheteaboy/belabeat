{
    "metadata": {
        "kernelspec": {
            "name": "SQL",
            "display_name": "SQL",
            "language": "sql"
        },
        "language_info": {
            "name": "sql",
            "version": ""
        }
    },
    "nbformat_minor": 2,
    "nbformat": 4,
    "cells": [
        {
            "cell_type": "markdown",
            "source": [
                "# Bellabeat Case Study\n",
                "\n",
                "# 1\\. Defining A Problem\n",
                "\n",
                "Bellabeat is a successful small company, but they have the potential to become a larger player in the global smart device market. Urška Sršen, cofounder and Chief Creative Officer of Bellabeat, believes that analyzing smart device fitness data could help unlock new growth opportunities for the company. You have been asked to focus on one of Bellabeat’s products and analyze smart device data to gain insight into how consumers are using their smart devices. The insights you discover will then help guide marketing strategy for the company. You will present your analysis to the Bellabeat executive team along with your high-level recommendations for Bellabeat’s marketing strategy.\n",
                "\n",
                "### **Characters:**\n",
                "\n",
                "- **Urška Sršen:** Bellabeat’s cofounder and Chief Creative Officer \n",
                "- **Sando Mur:** Mathematician and Bellabeat’s cofounder; key member of the Bellabeat executive team \n",
                "- **Bellabeat marketing analytics team:** A team of data analysts responsible for collecting, analyzing, and reporting data that helps guide Bellabeat’s marketing strategy. You joined this team six months ago and have been busy learning about Bellabeat’’s mission and business goals — as well as how you, as a junior data analyst, can help Bellabeat achieve them.\n",
                "\n",
                "**A business task is defined by the next questions:**\n",
                "\n",
                "1. What are some trends in smart device usage? \n",
                "2. How could these trends apply to Bellabeat customers? \n",
                "3. How could these trends help influence Bellabeat marketing strategy?\n",
                "\n",
                "# 2\\. Preparing Data\n",
                "\n",
                "To solve the problem I am given a database 'bellabeat', which includes datasets:\n",
                "\n",
                "1\\. 'dailyActivity' (940 records, 15 fields), which describes users' daily activity statistics, such as daily distances walked, steps made, activity level times and distances, and calories burned:"
            ],
            "metadata": {
                "azdata_cell_guid": "c0608736-82cc-4b96-a417-94035ef35465"
            },
            "attachments": {}
        },
        {
            "cell_type": "code",
            "source": [
                "SELECT COUNT(*) AS number_of_rows FROM dailyActivity;\r\n",
                "SELECT TOP 5 * FROM dailyActivity;"
            ],
            "metadata": {
                "azdata_cell_guid": "3580fd0d-696d-47c9-8418-47fcdae0a674",
                "language": "sql"
            },
            "outputs": [
                {
                    "output_type": "display_data",
                    "data": {
                        "text/html": "(1 row affected)"
                    },
                    "metadata": {}
                },
                {
                    "output_type": "display_data",
                    "data": {
                        "text/html": "(5 rows affected)"
                    },
                    "metadata": {}
                },
                {
                    "output_type": "display_data",
                    "data": {
                        "text/html": "Total execution time: 00:00:00.068"
                    },
                    "metadata": {}
                },
                {
                    "output_type": "execute_result",
                    "execution_count": 8,
                    "data": {
                        "application/vnd.dataresource+json": {
                            "schema": {
                                "fields": [
                                    {
                                        "name": "number_of_rows"
                                    }
                                ]
                            },
                            "data": [
                                {
                                    "0": "940"
                                }
                            ]
                        },
                        "text/html": "<table><tr><th>number_of_rows</th></tr><tr><td>940</td></tr></table>"
                    },
                    "metadata": {}
                },
                {
                    "output_type": "execute_result",
                    "execution_count": 8,
                    "data": {
                        "application/vnd.dataresource+json": {
                            "schema": {
                                "fields": [
                                    {
                                        "name": "Id"
                                    },
                                    {
                                        "name": "ActivityDate"
                                    },
                                    {
                                        "name": "TotalSteps"
                                    },
                                    {
                                        "name": "TotalDistance"
                                    },
                                    {
                                        "name": "TrackerDistance"
                                    },
                                    {
                                        "name": "LoggedActivitiesDistance"
                                    },
                                    {
                                        "name": "VeryActiveDistance"
                                    },
                                    {
                                        "name": "ModeratelyActiveDistance"
                                    },
                                    {
                                        "name": "LightActiveDistance"
                                    },
                                    {
                                        "name": "SedentaryActiveDistance"
                                    },
                                    {
                                        "name": "VeryActiveMinutes"
                                    },
                                    {
                                        "name": "FairlyActiveMinutes"
                                    },
                                    {
                                        "name": "LightlyActiveMinutes"
                                    },
                                    {
                                        "name": "SedentaryMinutes"
                                    },
                                    {
                                        "name": "Calories"
                                    }
                                ]
                            },
                            "data": [
                                {
                                    "0": "1503960366",
                                    "1": "4/12/2016",
                                    "2": "13162",
                                    "3": "8.5",
                                    "4": "8.5",
                                    "5": "0",
                                    "6": "1.87999999523163",
                                    "7": "0.550000011920929",
                                    "8": "6.05999994277954",
                                    "9": "0",
                                    "10": "25",
                                    "11": "13",
                                    "12": "328",
                                    "13": "728",
                                    "14": "1985"
                                },
                                {
                                    "0": "1503960366",
                                    "1": "4/13/2016",
                                    "2": "10735",
                                    "3": "6.96999979019165",
                                    "4": "6.96999979019165",
                                    "5": "0",
                                    "6": "1.57000005245209",
                                    "7": "0.689999997615814",
                                    "8": "4.71000003814697",
                                    "9": "0",
                                    "10": "21",
                                    "11": "19",
                                    "12": "217",
                                    "13": "776",
                                    "14": "1797"
                                },
                                {
                                    "0": "1503960366",
                                    "1": "4/14/2016",
                                    "2": "10460",
                                    "3": "6.73999977111816",
                                    "4": "6.73999977111816",
                                    "5": "0",
                                    "6": "2.44000005722046",
                                    "7": "0.400000005960464",
                                    "8": "3.91000008583069",
                                    "9": "0",
                                    "10": "30",
                                    "11": "11",
                                    "12": "181",
                                    "13": "1218",
                                    "14": "1776"
                                },
                                {
                                    "0": "1503960366",
                                    "1": "4/15/2016",
                                    "2": "9762",
                                    "3": "6.28000020980835",
                                    "4": "6.28000020980835",
                                    "5": "0",
                                    "6": "2.14000010490417",
                                    "7": "1.25999999046326",
                                    "8": "2.82999992370605",
                                    "9": "0",
                                    "10": "29",
                                    "11": "34",
                                    "12": "209",
                                    "13": "726",
                                    "14": "1745"
                                },
                                {
                                    "0": "1503960366",
                                    "1": "4/16/2016",
                                    "2": "12669",
                                    "3": "8.15999984741211",
                                    "4": "8.15999984741211",
                                    "5": "0",
                                    "6": "2.71000003814697",
                                    "7": "0.409999996423721",
                                    "8": "5.03999996185303",
                                    "9": "0",
                                    "10": "36",
                                    "11": "10",
                                    "12": "221",
                                    "13": "773",
                                    "14": "1863"
                                }
                            ]
                        },
                        "text/html": "<table><tr><th>Id</th><th>ActivityDate</th><th>TotalSteps</th><th>TotalDistance</th><th>TrackerDistance</th><th>LoggedActivitiesDistance</th><th>VeryActiveDistance</th><th>ModeratelyActiveDistance</th><th>LightActiveDistance</th><th>SedentaryActiveDistance</th><th>VeryActiveMinutes</th><th>FairlyActiveMinutes</th><th>LightlyActiveMinutes</th><th>SedentaryMinutes</th><th>Calories</th></tr><tr><td>1503960366</td><td>4/12/2016</td><td>13162</td><td>8.5</td><td>8.5</td><td>0</td><td>1.87999999523163</td><td>0.550000011920929</td><td>6.05999994277954</td><td>0</td><td>25</td><td>13</td><td>328</td><td>728</td><td>1985</td></tr><tr><td>1503960366</td><td>4/13/2016</td><td>10735</td><td>6.96999979019165</td><td>6.96999979019165</td><td>0</td><td>1.57000005245209</td><td>0.689999997615814</td><td>4.71000003814697</td><td>0</td><td>21</td><td>19</td><td>217</td><td>776</td><td>1797</td></tr><tr><td>1503960366</td><td>4/14/2016</td><td>10460</td><td>6.73999977111816</td><td>6.73999977111816</td><td>0</td><td>2.44000005722046</td><td>0.400000005960464</td><td>3.91000008583069</td><td>0</td><td>30</td><td>11</td><td>181</td><td>1218</td><td>1776</td></tr><tr><td>1503960366</td><td>4/15/2016</td><td>9762</td><td>6.28000020980835</td><td>6.28000020980835</td><td>0</td><td>2.14000010490417</td><td>1.25999999046326</td><td>2.82999992370605</td><td>0</td><td>29</td><td>34</td><td>209</td><td>726</td><td>1745</td></tr><tr><td>1503960366</td><td>4/16/2016</td><td>12669</td><td>8.15999984741211</td><td>8.15999984741211</td><td>0</td><td>2.71000003814697</td><td>0.409999996423721</td><td>5.03999996185303</td><td>0</td><td>36</td><td>10</td><td>221</td><td>773</td><td>1863</td></tr></table>"
                    },
                    "metadata": {}
                }
            ],
            "execution_count": 8
        },
        {
            "cell_type": "markdown",
            "source": [
                "2\\. 'heartrateSeconds' (2483658 records, 3 fields) - shows all the users' heartrates recorded by the app, including user's ID, record date-time and the heartrate value:"
            ],
            "metadata": {
                "azdata_cell_guid": "b7dd20b4-8ad0-46fa-8a1d-d1106d045bd0"
            },
            "attachments": {}
        },
        {
            "cell_type": "code",
            "source": [
                "SELECT COUNT(*) AS number_of_rows FROM heartrateSeconds;\r\n",
                "SELECT TOP 5 * FROM heartrateSeconds;"
            ],
            "metadata": {
                "azdata_cell_guid": "af70e9d9-b8fe-4022-a41d-2d6f853e3d48",
                "language": "sql"
            },
            "outputs": [
                {
                    "output_type": "display_data",
                    "data": {
                        "text/html": "(1 row affected)"
                    },
                    "metadata": {}
                },
                {
                    "output_type": "display_data",
                    "data": {
                        "text/html": "(5 rows affected)"
                    },
                    "metadata": {}
                },
                {
                    "output_type": "display_data",
                    "data": {
                        "text/html": "Total execution time: 00:00:00.774"
                    },
                    "metadata": {}
                },
                {
                    "output_type": "execute_result",
                    "execution_count": 7,
                    "data": {
                        "application/vnd.dataresource+json": {
                            "schema": {
                                "fields": [
                                    {
                                        "name": "number_of_rows"
                                    }
                                ]
                            },
                            "data": [
                                {
                                    "0": "2483658"
                                }
                            ]
                        },
                        "text/html": "<table><tr><th>number_of_rows</th></tr><tr><td>2483658</td></tr></table>"
                    },
                    "metadata": {}
                },
                {
                    "output_type": "execute_result",
                    "execution_count": 7,
                    "data": {
                        "application/vnd.dataresource+json": {
                            "schema": {
                                "fields": [
                                    {
                                        "name": "Id"
                                    },
                                    {
                                        "name": "Time"
                                    },
                                    {
                                        "name": "Value"
                                    }
                                ]
                            },
                            "data": [
                                {
                                    "0": "2022484408",
                                    "1": "4/30/2016 1:16:15 PM",
                                    "2": "77"
                                },
                                {
                                    "0": "2022484408",
                                    "1": "4/30/2016 1:16:20 PM",
                                    "2": "79"
                                },
                                {
                                    "0": "2022484408",
                                    "1": "4/30/2016 1:16:25 PM",
                                    "2": "81"
                                },
                                {
                                    "0": "2022484408",
                                    "1": "4/30/2016 1:16:30 PM",
                                    "2": "80"
                                },
                                {
                                    "0": "2022484408",
                                    "1": "4/30/2016 1:16:40 PM",
                                    "2": "79"
                                }
                            ]
                        },
                        "text/html": "<table><tr><th>Id</th><th>Time</th><th>Value</th></tr><tr><td>2022484408</td><td>4/30/2016 1:16:15 PM</td><td>77</td></tr><tr><td>2022484408</td><td>4/30/2016 1:16:20 PM</td><td>79</td></tr><tr><td>2022484408</td><td>4/30/2016 1:16:25 PM</td><td>81</td></tr><tr><td>2022484408</td><td>4/30/2016 1:16:30 PM</td><td>80</td></tr><tr><td>2022484408</td><td>4/30/2016 1:16:40 PM</td><td>79</td></tr></table>"
                    },
                    "metadata": {}
                }
            ],
            "execution_count": 7
        },
        {
            "cell_type": "markdown",
            "source": [
                "3\\. 'sleepDay' (413 records, 5 fields) - about daily sleep time and time in bed of each user."
            ],
            "metadata": {
                "azdata_cell_guid": "c38ce2da-cc0f-4250-a700-51b9fc7c82f7"
            },
            "attachments": {}
        },
        {
            "cell_type": "code",
            "source": [
                "SELECT COUNT(*) AS numberOfRows FROM sleepDay;\r\n",
                "SELECT TOP 5 * FROM sleepDay;"
            ],
            "metadata": {
                "azdata_cell_guid": "bb820898-df94-4139-a671-0efe3fc9a6a4",
                "language": "sql"
            },
            "outputs": [
                {
                    "output_type": "display_data",
                    "data": {
                        "text/html": "(1 row affected)"
                    },
                    "metadata": {}
                },
                {
                    "output_type": "display_data",
                    "data": {
                        "text/html": "(5 rows affected)"
                    },
                    "metadata": {}
                },
                {
                    "output_type": "display_data",
                    "data": {
                        "text/html": "Total execution time: 00:00:00.042"
                    },
                    "metadata": {}
                },
                {
                    "output_type": "execute_result",
                    "execution_count": 9,
                    "data": {
                        "application/vnd.dataresource+json": {
                            "schema": {
                                "fields": [
                                    {
                                        "name": "numberOfRows"
                                    }
                                ]
                            },
                            "data": [
                                {
                                    "0": "413"
                                }
                            ]
                        },
                        "text/html": "<table><tr><th>numberOfRows</th></tr><tr><td>413</td></tr></table>"
                    },
                    "metadata": {}
                },
                {
                    "output_type": "execute_result",
                    "execution_count": 9,
                    "data": {
                        "application/vnd.dataresource+json": {
                            "schema": {
                                "fields": [
                                    {
                                        "name": "Id"
                                    },
                                    {
                                        "name": "SleepDay"
                                    },
                                    {
                                        "name": "TotalSleepRecords"
                                    },
                                    {
                                        "name": "TotalMinutesAsleep"
                                    },
                                    {
                                        "name": "TotalTimeInBed"
                                    }
                                ]
                            },
                            "data": [
                                {
                                    "0": "1503960366",
                                    "1": "4/12/2016 12:00:00 AM",
                                    "2": "1",
                                    "3": "327",
                                    "4": "346"
                                },
                                {
                                    "0": "1503960366",
                                    "1": "4/13/2016 12:00:00 AM",
                                    "2": "2",
                                    "3": "384",
                                    "4": "407"
                                },
                                {
                                    "0": "1503960366",
                                    "1": "4/15/2016 12:00:00 AM",
                                    "2": "1",
                                    "3": "412",
                                    "4": "442"
                                },
                                {
                                    "0": "1503960366",
                                    "1": "4/16/2016 12:00:00 AM",
                                    "2": "2",
                                    "3": "340",
                                    "4": "367"
                                },
                                {
                                    "0": "1503960366",
                                    "1": "4/17/2016 12:00:00 AM",
                                    "2": "1",
                                    "3": "700",
                                    "4": "712"
                                }
                            ]
                        },
                        "text/html": "<table><tr><th>Id</th><th>SleepDay</th><th>TotalSleepRecords</th><th>TotalMinutesAsleep</th><th>TotalTimeInBed</th></tr><tr><td>1503960366</td><td>4/12/2016 12:00:00 AM</td><td>1</td><td>327</td><td>346</td></tr><tr><td>1503960366</td><td>4/13/2016 12:00:00 AM</td><td>2</td><td>384</td><td>407</td></tr><tr><td>1503960366</td><td>4/15/2016 12:00:00 AM</td><td>1</td><td>412</td><td>442</td></tr><tr><td>1503960366</td><td>4/16/2016 12:00:00 AM</td><td>2</td><td>340</td><td>367</td></tr><tr><td>1503960366</td><td>4/17/2016 12:00:00 AM</td><td>1</td><td>700</td><td>712</td></tr></table>"
                    },
                    "metadata": {}
                }
            ],
            "execution_count": 9
        },
        {
            "cell_type": "markdown",
            "source": [
                "4\\. weightLogInfo (67 rows, 8 fields) - the data about users' weights and body mass indexes."
            ],
            "metadata": {
                "azdata_cell_guid": "3995513a-5215-4efd-ad8a-ed7158e88ea7"
            },
            "attachments": {}
        },
        {
            "cell_type": "code",
            "source": [
                "SELECT COUNT(*) AS numberOfRows FROM weightLogInfo;\r\n",
                "SELECT TOP 5 * FROM weightLogInfo;"
            ],
            "metadata": {
                "azdata_cell_guid": "29d00e56-857e-415d-9e1b-40b2d50a6297",
                "language": "sql"
            },
            "outputs": [
                {
                    "output_type": "display_data",
                    "data": {
                        "text/html": "(1 row affected)"
                    },
                    "metadata": {}
                },
                {
                    "output_type": "display_data",
                    "data": {
                        "text/html": "(5 rows affected)"
                    },
                    "metadata": {}
                },
                {
                    "output_type": "display_data",
                    "data": {
                        "text/html": "Total execution time: 00:00:00.044"
                    },
                    "metadata": {}
                },
                {
                    "output_type": "execute_result",
                    "execution_count": 10,
                    "data": {
                        "application/vnd.dataresource+json": {
                            "schema": {
                                "fields": [
                                    {
                                        "name": "numberOfRows"
                                    }
                                ]
                            },
                            "data": [
                                {
                                    "0": "67"
                                }
                            ]
                        },
                        "text/html": "<table><tr><th>numberOfRows</th></tr><tr><td>67</td></tr></table>"
                    },
                    "metadata": {}
                },
                {
                    "output_type": "execute_result",
                    "execution_count": 10,
                    "data": {
                        "application/vnd.dataresource+json": {
                            "schema": {
                                "fields": [
                                    {
                                        "name": "Id"
                                    },
                                    {
                                        "name": "Date"
                                    },
                                    {
                                        "name": "WeightKg"
                                    },
                                    {
                                        "name": "WeightPounds"
                                    },
                                    {
                                        "name": "Fat"
                                    },
                                    {
                                        "name": "BMI"
                                    },
                                    {
                                        "name": "IsManualReport"
                                    },
                                    {
                                        "name": "LogId"
                                    }
                                ]
                            },
                            "data": [
                                {
                                    "0": "1503960366",
                                    "1": "5/2/2016 11:59:59 PM",
                                    "2": "52.5999984741211",
                                    "3": "115.963146545323",
                                    "4": "22",
                                    "5": "22.6499996185303",
                                    "6": "True",
                                    "7": "1462233599000"
                                },
                                {
                                    "0": "1503960366",
                                    "1": "5/3/2016 11:59:59 PM",
                                    "2": "52.5999984741211",
                                    "3": "115.963146545323",
                                    "4": "",
                                    "5": "22.6499996185303",
                                    "6": "True",
                                    "7": "1462319999000"
                                },
                                {
                                    "0": "1927972279",
                                    "1": "4/13/2016 1:08:52 AM",
                                    "2": "133.5",
                                    "3": "294.317120016975",
                                    "4": "",
                                    "5": "47.5400009155273",
                                    "6": "False",
                                    "7": "1460509732000"
                                },
                                {
                                    "0": "2873212765",
                                    "1": "4/21/2016 11:59:59 PM",
                                    "2": "56.7000007629395",
                                    "3": "125.002104340889",
                                    "4": "",
                                    "5": "21.4500007629395",
                                    "6": "True",
                                    "7": "1461283199000"
                                },
                                {
                                    "0": "2873212765",
                                    "1": "5/12/2016 11:59:59 PM",
                                    "2": "57.2999992370605",
                                    "3": "126.324874550011",
                                    "4": "",
                                    "5": "21.6900005340576",
                                    "6": "True",
                                    "7": "1463097599000"
                                }
                            ]
                        },
                        "text/html": "<table><tr><th>Id</th><th>Date</th><th>WeightKg</th><th>WeightPounds</th><th>Fat</th><th>BMI</th><th>IsManualReport</th><th>LogId</th></tr><tr><td>1503960366</td><td>5/2/2016 11:59:59 PM</td><td>52.5999984741211</td><td>115.963146545323</td><td>22</td><td>22.6499996185303</td><td>True</td><td>1462233599000</td></tr><tr><td>1503960366</td><td>5/3/2016 11:59:59 PM</td><td>52.5999984741211</td><td>115.963146545323</td><td></td><td>22.6499996185303</td><td>True</td><td>1462319999000</td></tr><tr><td>1927972279</td><td>4/13/2016 1:08:52 AM</td><td>133.5</td><td>294.317120016975</td><td></td><td>47.5400009155273</td><td>False</td><td>1460509732000</td></tr><tr><td>2873212765</td><td>4/21/2016 11:59:59 PM</td><td>56.7000007629395</td><td>125.002104340889</td><td></td><td>21.4500007629395</td><td>True</td><td>1461283199000</td></tr><tr><td>2873212765</td><td>5/12/2016 11:59:59 PM</td><td>57.2999992370605</td><td>126.324874550011</td><td></td><td>21.6900005340576</td><td>True</td><td>1463097599000</td></tr></table>"
                    },
                    "metadata": {}
                }
            ],
            "execution_count": 10
        },
        {
            "cell_type": "markdown",
            "source": [
                "Then I used to check if all datasets are full in term of sample size (30 Bellabeat users should be included into testing and statistics):"
            ],
            "metadata": {
                "azdata_cell_guid": "de9389d3-d846-42a5-b21c-b87444c213f9"
            },
            "attachments": {}
        },
        {
            "cell_type": "code",
            "source": [
                "SELECT COUNT(DISTINCT Id) AS dailyActivityIDs FROM dailyActivity;\r\n",
                "SELECT COUNT(DISTINCT Id) AS heartrateIDs     FROM heartrateSeconds;\r\n",
                "SELECT COUNT(DISTINCT Id) AS sleepDayIDs      FROM sleepDay;\r\n",
                "SELECT COUNT(DISTINCT Id) AS weightLogIDs     FROM weightLogInfo;"
            ],
            "metadata": {
                "azdata_cell_guid": "4d48c002-6c19-48e4-a7aa-74027ec9998c",
                "language": "sql"
            },
            "outputs": [
                {
                    "output_type": "display_data",
                    "data": {
                        "text/html": "(1 row affected)"
                    },
                    "metadata": {}
                },
                {
                    "output_type": "display_data",
                    "data": {
                        "text/html": "(1 row affected)"
                    },
                    "metadata": {}
                },
                {
                    "output_type": "display_data",
                    "data": {
                        "text/html": "(1 row affected)"
                    },
                    "metadata": {}
                },
                {
                    "output_type": "display_data",
                    "data": {
                        "text/html": "(1 row affected)"
                    },
                    "metadata": {}
                },
                {
                    "output_type": "display_data",
                    "data": {
                        "text/html": "Total execution time: 00:00:01.470"
                    },
                    "metadata": {}
                },
                {
                    "output_type": "execute_result",
                    "execution_count": 11,
                    "data": {
                        "application/vnd.dataresource+json": {
                            "schema": {
                                "fields": [
                                    {
                                        "name": "dailyActivityIDs"
                                    }
                                ]
                            },
                            "data": [
                                {
                                    "0": "33"
                                }
                            ]
                        },
                        "text/html": "<table><tr><th>dailyActivityIDs</th></tr><tr><td>33</td></tr></table>"
                    },
                    "metadata": {}
                },
                {
                    "output_type": "execute_result",
                    "execution_count": 11,
                    "data": {
                        "application/vnd.dataresource+json": {
                            "schema": {
                                "fields": [
                                    {
                                        "name": "heartrateIDs"
                                    }
                                ]
                            },
                            "data": [
                                {
                                    "0": "14"
                                }
                            ]
                        },
                        "text/html": "<table><tr><th>heartrateIDs</th></tr><tr><td>14</td></tr></table>"
                    },
                    "metadata": {}
                },
                {
                    "output_type": "execute_result",
                    "execution_count": 11,
                    "data": {
                        "application/vnd.dataresource+json": {
                            "schema": {
                                "fields": [
                                    {
                                        "name": "sleepDayIDs"
                                    }
                                ]
                            },
                            "data": [
                                {
                                    "0": "24"
                                }
                            ]
                        },
                        "text/html": "<table><tr><th>sleepDayIDs</th></tr><tr><td>24</td></tr></table>"
                    },
                    "metadata": {}
                },
                {
                    "output_type": "execute_result",
                    "execution_count": 11,
                    "data": {
                        "application/vnd.dataresource+json": {
                            "schema": {
                                "fields": [
                                    {
                                        "name": "weightLogIDs"
                                    }
                                ]
                            },
                            "data": [
                                {
                                    "0": "8"
                                }
                            ]
                        },
                        "text/html": "<table><tr><th>weightLogIDs</th></tr><tr><td>8</td></tr></table>"
                    },
                    "metadata": {}
                }
            ],
            "execution_count": 11
        },
        {
            "cell_type": "markdown",
            "source": [
                "Number of users in each dataset:\n",
                "\n",
                "dailyActivity - 33\n",
                "\n",
                "heartrateSeconds - 14\n",
                "\n",
                "sleepDayIDs - 24\n",
                "\n",
                "weightLogInfo - 8\n",
                "\n",
                "Only 'dailyActivity' is full in terms of number of users (30+), so the analysis can be unfair.\n",
                "\n",
                "  \n",
                "\n",
                "# 3\\. Cleaning\n",
                "\n",
                "## 3.1. Cleaning 'dailyActivity'\n",
                "\n",
                "### 3.1.1. Checking for duplicates"
            ],
            "metadata": {
                "azdata_cell_guid": "87c5e701-2b0e-4688-b666-ac2b60bbdcd7"
            },
            "attachments": {}
        },
        {
            "cell_type": "code",
            "source": [
                "SELECT Id, ActivityDate, COUNT(*) AS numberOfRecords\r\n",
                "FROM dailyActivity\r\n",
                "GROUP BY Id, ActivityDate\r\n",
                "HAVING COUNT(*) > 1"
            ],
            "metadata": {
                "azdata_cell_guid": "4f202b8d-21a5-4c86-bd40-91ad187beb69",
                "language": "sql"
            },
            "outputs": [
                {
                    "output_type": "display_data",
                    "data": {
                        "text/html": "(0 rows affected)"
                    },
                    "metadata": {}
                },
                {
                    "output_type": "display_data",
                    "data": {
                        "text/html": "Total execution time: 00:00:00.267"
                    },
                    "metadata": {}
                },
                {
                    "output_type": "execute_result",
                    "execution_count": 1,
                    "data": {
                        "application/vnd.dataresource+json": {
                            "schema": {
                                "fields": [
                                    {
                                        "name": "Id"
                                    },
                                    {
                                        "name": "ActivityDate"
                                    },
                                    {
                                        "name": "numberOfRecords"
                                    }
                                ]
                            },
                            "data": []
                        },
                        "text/html": "<table><tr><th>Id</th><th>ActivityDate</th><th>numberOfRecords</th></tr></table>"
                    },
                    "metadata": {}
                }
            ],
            "execution_count": 1
        },
        {
            "cell_type": "markdown",
            "source": [
                "No duplicates.\n",
                "\n",
                "3.1.2. Removing unuseful columns \n",
                "\n",
                "'SedentaryActivrDistance' column if wrong, because a human cannotwalk while being sedentary. LoggedActivitiesDistance is also unnesessary until almost all values in this column equal to 0."
            ],
            "metadata": {
                "azdata_cell_guid": "4678dd9b-3581-4905-926b-07d5aae92fb8"
            },
            "attachments": {}
        },
        {
            "cell_type": "code",
            "source": [
                "ALTER TABLE dailyActivity \r\n",
                "DROP COLUMN SedentaryActiveDistance, LoggedActivitiesDistance;"
            ],
            "metadata": {
                "azdata_cell_guid": "4a090f6e-c480-4b8e-958c-05d3c43c2b24",
                "language": "sql"
            },
            "outputs": [
                {
                    "output_type": "display_data",
                    "data": {
                        "text/html": "Commands completed successfully."
                    },
                    "metadata": {}
                },
                {
                    "output_type": "display_data",
                    "data": {
                        "text/html": "Total execution time: 00:00:00.109"
                    },
                    "metadata": {}
                }
            ],
            "execution_count": 2
        },
        {
            "cell_type": "markdown",
            "source": [
                "3.1.3. Rename column 'ActivityDate' to 'Date'\n",
                "\n",
                "I used to do this for column name consistency between tables."
            ],
            "metadata": {
                "azdata_cell_guid": "11478753-9cff-48e1-8824-dc6e9d42fb8a"
            },
            "attachments": {}
        },
        {
            "cell_type": "code",
            "source": [
                "EXEC sp_rename 'dailyActivity.ActivityDate', 'Date', 'COLUMN';"
            ],
            "metadata": {
                "azdata_cell_guid": "cda86dfa-97dd-48fa-8e83-9b7549d84e30",
                "language": "sql"
            },
            "outputs": [
                {
                    "output_type": "display_data",
                    "data": {
                        "text/html": "Caution: Changing any part of an object name could break scripts and stored procedures."
                    },
                    "metadata": {}
                },
                {
                    "output_type": "display_data",
                    "data": {
                        "text/html": "Total execution time: 00:00:00.519"
                    },
                    "metadata": {}
                }
            ],
            "execution_count": 3
        },
        {
            "cell_type": "markdown",
            "source": [
                "3.1.4. Checking datatypes"
            ],
            "metadata": {
                "azdata_cell_guid": "31c8454d-f775-42bd-b1e9-8fae261505b6"
            },
            "attachments": {}
        },
        {
            "cell_type": "code",
            "source": [
                "EXEC sp_help dailyActivity;"
            ],
            "metadata": {
                "azdata_cell_guid": "a0d1a284-9b37-44f8-97b5-6ed7d0bd04a5",
                "language": "sql"
            },
            "outputs": [
                {
                    "output_type": "display_data",
                    "data": {
                        "text/html": " "
                    },
                    "metadata": {}
                },
                {
                    "output_type": "display_data",
                    "data": {
                        "text/html": " "
                    },
                    "metadata": {}
                },
                {
                    "output_type": "display_data",
                    "data": {
                        "text/html": " "
                    },
                    "metadata": {}
                },
                {
                    "output_type": "display_data",
                    "data": {
                        "text/html": " "
                    },
                    "metadata": {}
                },
                {
                    "output_type": "display_data",
                    "data": {
                        "text/html": " "
                    },
                    "metadata": {}
                },
                {
                    "output_type": "display_data",
                    "data": {
                        "text/html": " "
                    },
                    "metadata": {}
                },
                {
                    "output_type": "display_data",
                    "data": {
                        "text/html": "The object 'dailyActivity' does not have any indexes, or you do not have permissions."
                    },
                    "metadata": {}
                },
                {
                    "output_type": "display_data",
                    "data": {
                        "text/html": " "
                    },
                    "metadata": {}
                },
                {
                    "output_type": "display_data",
                    "data": {
                        "text/html": "No constraints are defined on object 'dailyActivity', or you do not have permissions."
                    },
                    "metadata": {}
                },
                {
                    "output_type": "display_data",
                    "data": {
                        "text/html": " "
                    },
                    "metadata": {}
                },
                {
                    "output_type": "display_data",
                    "data": {
                        "text/html": "No foreign keys reference table 'dailyActivity', or you do not have permissions on referencing tables."
                    },
                    "metadata": {}
                },
                {
                    "output_type": "display_data",
                    "data": {
                        "text/html": "No views with schema binding reference table 'dailyActivity'."
                    },
                    "metadata": {}
                },
                {
                    "output_type": "display_data",
                    "data": {
                        "text/html": "Total execution time: 00:00:00.633"
                    },
                    "metadata": {}
                },
                {
                    "output_type": "execute_result",
                    "execution_count": 7,
                    "data": {
                        "application/vnd.dataresource+json": {
                            "schema": {
                                "fields": [
                                    {
                                        "name": "Name"
                                    },
                                    {
                                        "name": "Owner"
                                    },
                                    {
                                        "name": "Type"
                                    },
                                    {
                                        "name": "Created_datetime"
                                    }
                                ]
                            },
                            "data": [
                                {
                                    "0": "dailyActivity",
                                    "1": "dbo",
                                    "2": "user table",
                                    "3": "2022-07-23 19:39:25.867"
                                }
                            ]
                        },
                        "text/html": "<table><tr><th>Name</th><th>Owner</th><th>Type</th><th>Created_datetime</th></tr><tr><td>dailyActivity</td><td>dbo</td><td>user table</td><td>2022-07-23 19:39:25.867</td></tr></table>"
                    },
                    "metadata": {}
                },
                {
                    "output_type": "execute_result",
                    "execution_count": 7,
                    "data": {
                        "application/vnd.dataresource+json": {
                            "schema": {
                                "fields": [
                                    {
                                        "name": "Column_name"
                                    },
                                    {
                                        "name": "Type"
                                    },
                                    {
                                        "name": "Computed"
                                    },
                                    {
                                        "name": "Length"
                                    },
                                    {
                                        "name": "Prec"
                                    },
                                    {
                                        "name": "Scale"
                                    },
                                    {
                                        "name": "Nullable"
                                    },
                                    {
                                        "name": "TrimTrailingBlanks"
                                    },
                                    {
                                        "name": "FixedLenNullInSource"
                                    },
                                    {
                                        "name": "Collation"
                                    }
                                ]
                            },
                            "data": [
                                {
                                    "0": "Id",
                                    "1": "varchar",
                                    "2": "no",
                                    "3": "50",
                                    "4": "     ",
                                    "5": "     ",
                                    "6": "yes",
                                    "7": "no",
                                    "8": "yes",
                                    "9": "SQL_Latin1_General_CP1_CI_AS"
                                },
                                {
                                    "0": "Date",
                                    "1": "varchar",
                                    "2": "no",
                                    "3": "50",
                                    "4": "     ",
                                    "5": "     ",
                                    "6": "yes",
                                    "7": "no",
                                    "8": "yes",
                                    "9": "SQL_Latin1_General_CP1_CI_AS"
                                },
                                {
                                    "0": "TotalSteps",
                                    "1": "varchar",
                                    "2": "no",
                                    "3": "50",
                                    "4": "     ",
                                    "5": "     ",
                                    "6": "yes",
                                    "7": "no",
                                    "8": "yes",
                                    "9": "SQL_Latin1_General_CP1_CI_AS"
                                },
                                {
                                    "0": "TotalDistance",
                                    "1": "varchar",
                                    "2": "no",
                                    "3": "50",
                                    "4": "     ",
                                    "5": "     ",
                                    "6": "yes",
                                    "7": "no",
                                    "8": "yes",
                                    "9": "SQL_Latin1_General_CP1_CI_AS"
                                },
                                {
                                    "0": "TrackerDistance",
                                    "1": "varchar",
                                    "2": "no",
                                    "3": "50",
                                    "4": "     ",
                                    "5": "     ",
                                    "6": "yes",
                                    "7": "no",
                                    "8": "yes",
                                    "9": "SQL_Latin1_General_CP1_CI_AS"
                                },
                                {
                                    "0": "VeryActiveDistance",
                                    "1": "varchar",
                                    "2": "no",
                                    "3": "50",
                                    "4": "     ",
                                    "5": "     ",
                                    "6": "yes",
                                    "7": "no",
                                    "8": "yes",
                                    "9": "SQL_Latin1_General_CP1_CI_AS"
                                },
                                {
                                    "0": "ModeratelyActiveDistance",
                                    "1": "varchar",
                                    "2": "no",
                                    "3": "50",
                                    "4": "     ",
                                    "5": "     ",
                                    "6": "yes",
                                    "7": "no",
                                    "8": "yes",
                                    "9": "SQL_Latin1_General_CP1_CI_AS"
                                },
                                {
                                    "0": "LightActiveDistance",
                                    "1": "varchar",
                                    "2": "no",
                                    "3": "50",
                                    "4": "     ",
                                    "5": "     ",
                                    "6": "yes",
                                    "7": "no",
                                    "8": "yes",
                                    "9": "SQL_Latin1_General_CP1_CI_AS"
                                },
                                {
                                    "0": "VeryActiveMinutes",
                                    "1": "varchar",
                                    "2": "no",
                                    "3": "50",
                                    "4": "     ",
                                    "5": "     ",
                                    "6": "yes",
                                    "7": "no",
                                    "8": "yes",
                                    "9": "SQL_Latin1_General_CP1_CI_AS"
                                },
                                {
                                    "0": "FairlyActiveMinutes",
                                    "1": "varchar",
                                    "2": "no",
                                    "3": "50",
                                    "4": "     ",
                                    "5": "     ",
                                    "6": "yes",
                                    "7": "no",
                                    "8": "yes",
                                    "9": "SQL_Latin1_General_CP1_CI_AS"
                                },
                                {
                                    "0": "LightlyActiveMinutes",
                                    "1": "varchar",
                                    "2": "no",
                                    "3": "50",
                                    "4": "     ",
                                    "5": "     ",
                                    "6": "yes",
                                    "7": "no",
                                    "8": "yes",
                                    "9": "SQL_Latin1_General_CP1_CI_AS"
                                },
                                {
                                    "0": "SedentaryMinutes",
                                    "1": "varchar",
                                    "2": "no",
                                    "3": "50",
                                    "4": "     ",
                                    "5": "     ",
                                    "6": "yes",
                                    "7": "no",
                                    "8": "yes",
                                    "9": "SQL_Latin1_General_CP1_CI_AS"
                                },
                                {
                                    "0": "Calories",
                                    "1": "varchar",
                                    "2": "no",
                                    "3": "50",
                                    "4": "     ",
                                    "5": "     ",
                                    "6": "yes",
                                    "7": "no",
                                    "8": "yes",
                                    "9": "SQL_Latin1_General_CP1_CI_AS"
                                }
                            ]
                        },
                        "text/html": "<table><tr><th>Column_name</th><th>Type</th><th>Computed</th><th>Length</th><th>Prec</th><th>Scale</th><th>Nullable</th><th>TrimTrailingBlanks</th><th>FixedLenNullInSource</th><th>Collation</th></tr><tr><td>Id</td><td>varchar</td><td>no</td><td>50</td><td>     </td><td>     </td><td>yes</td><td>no</td><td>yes</td><td>SQL_Latin1_General_CP1_CI_AS</td></tr><tr><td>Date</td><td>varchar</td><td>no</td><td>50</td><td>     </td><td>     </td><td>yes</td><td>no</td><td>yes</td><td>SQL_Latin1_General_CP1_CI_AS</td></tr><tr><td>TotalSteps</td><td>varchar</td><td>no</td><td>50</td><td>     </td><td>     </td><td>yes</td><td>no</td><td>yes</td><td>SQL_Latin1_General_CP1_CI_AS</td></tr><tr><td>TotalDistance</td><td>varchar</td><td>no</td><td>50</td><td>     </td><td>     </td><td>yes</td><td>no</td><td>yes</td><td>SQL_Latin1_General_CP1_CI_AS</td></tr><tr><td>TrackerDistance</td><td>varchar</td><td>no</td><td>50</td><td>     </td><td>     </td><td>yes</td><td>no</td><td>yes</td><td>SQL_Latin1_General_CP1_CI_AS</td></tr><tr><td>VeryActiveDistance</td><td>varchar</td><td>no</td><td>50</td><td>     </td><td>     </td><td>yes</td><td>no</td><td>yes</td><td>SQL_Latin1_General_CP1_CI_AS</td></tr><tr><td>ModeratelyActiveDistance</td><td>varchar</td><td>no</td><td>50</td><td>     </td><td>     </td><td>yes</td><td>no</td><td>yes</td><td>SQL_Latin1_General_CP1_CI_AS</td></tr><tr><td>LightActiveDistance</td><td>varchar</td><td>no</td><td>50</td><td>     </td><td>     </td><td>yes</td><td>no</td><td>yes</td><td>SQL_Latin1_General_CP1_CI_AS</td></tr><tr><td>VeryActiveMinutes</td><td>varchar</td><td>no</td><td>50</td><td>     </td><td>     </td><td>yes</td><td>no</td><td>yes</td><td>SQL_Latin1_General_CP1_CI_AS</td></tr><tr><td>FairlyActiveMinutes</td><td>varchar</td><td>no</td><td>50</td><td>     </td><td>     </td><td>yes</td><td>no</td><td>yes</td><td>SQL_Latin1_General_CP1_CI_AS</td></tr><tr><td>LightlyActiveMinutes</td><td>varchar</td><td>no</td><td>50</td><td>     </td><td>     </td><td>yes</td><td>no</td><td>yes</td><td>SQL_Latin1_General_CP1_CI_AS</td></tr><tr><td>SedentaryMinutes</td><td>varchar</td><td>no</td><td>50</td><td>     </td><td>     </td><td>yes</td><td>no</td><td>yes</td><td>SQL_Latin1_General_CP1_CI_AS</td></tr><tr><td>Calories</td><td>varchar</td><td>no</td><td>50</td><td>     </td><td>     </td><td>yes</td><td>no</td><td>yes</td><td>SQL_Latin1_General_CP1_CI_AS</td></tr></table>"
                    },
                    "metadata": {}
                },
                {
                    "output_type": "execute_result",
                    "execution_count": 7,
                    "data": {
                        "application/vnd.dataresource+json": {
                            "schema": {
                                "fields": [
                                    {
                                        "name": "Identity"
                                    },
                                    {
                                        "name": "Seed"
                                    },
                                    {
                                        "name": "Increment"
                                    },
                                    {
                                        "name": "Not For Replication"
                                    }
                                ]
                            },
                            "data": [
                                {
                                    "0": "No identity column defined.",
                                    "1": "NULL",
                                    "2": "NULL",
                                    "3": "NULL"
                                }
                            ]
                        },
                        "text/html": "<table><tr><th>Identity</th><th>Seed</th><th>Increment</th><th>Not For Replication</th></tr><tr><td>No identity column defined.</td><td>NULL</td><td>NULL</td><td>NULL</td></tr></table>"
                    },
                    "metadata": {}
                },
                {
                    "output_type": "execute_result",
                    "execution_count": 7,
                    "data": {
                        "application/vnd.dataresource+json": {
                            "schema": {
                                "fields": [
                                    {
                                        "name": "RowGuidCol"
                                    }
                                ]
                            },
                            "data": [
                                {
                                    "0": "No rowguidcol column defined."
                                }
                            ]
                        },
                        "text/html": "<table><tr><th>RowGuidCol</th></tr><tr><td>No rowguidcol column defined.</td></tr></table>"
                    },
                    "metadata": {}
                },
                {
                    "output_type": "execute_result",
                    "execution_count": 7,
                    "data": {
                        "application/vnd.dataresource+json": {
                            "schema": {
                                "fields": [
                                    {
                                        "name": "Data_located_on_filegroup"
                                    }
                                ]
                            },
                            "data": [
                                {
                                    "0": "PRIMARY"
                                }
                            ]
                        },
                        "text/html": "<table><tr><th>Data_located_on_filegroup</th></tr><tr><td>PRIMARY</td></tr></table>"
                    },
                    "metadata": {}
                }
            ],
            "execution_count": 7
        },
        {
            "cell_type": "markdown",
            "source": [
                "All the columns have varchar datatype, and that is incorrect. No columns should have varchar datatype:\n",
                "\n",
                "\\- 'Id', 'TotalSteps', 'VeryActiveMinutes', 'FairlyActiveMinutes', 'LightlyActiveMinutes', 'SedentaryMinutes' and 'Calories' - integer;\n",
                "\n",
                "\\- 'Date' - Date datatype;\n",
                "\n",
                "\\- 'TotalDistance', 'TrackerDistance', 'VeryActiveDistance', 'ModeratelyActiveDistance', 'LightActiveDistance' - double precision,"
            ],
            "metadata": {
                "azdata_cell_guid": "92d6d265-8513-40db-b210-8436be90b9f4"
            },
            "attachments": {}
        },
        {
            "cell_type": "code",
            "source": [
                "ALTER TABLE dailyActivity ALTER COLUMN Id bigint;\r\n",
                "ALTER TABLE dailyActivity ALTER COLUMN Date DATE;\r\n",
                "ALTER TABLE dailyActivity ALTER COLUMN TotalSteps INTEGER;\r\n",
                "ALTER TABLE dailyActivity ALTER COLUMN TotalDistance FLOAT; \r\n",
                "ALTER TABLE dailyActivity ALTER COLUMN TrackerDistance FLOAT;\r\n",
                "ALTER TABLE dailyActivity ALTER COLUMN VeryActiveDistance FLOAT; \r\n",
                "ALTER TABLE dailyActivity ALTER COLUMN ModeratelyActiveDistance FLOAT;\r\n",
                "ALTER TABLE dailyActivity ALTER COLUMN LightActiveDistance FLOAT;\r\n",
                "ALTER TABLE dailyActivity ALTER COLUMN VeryActiveMinutes INTEGER;\r\n",
                "ALTER TABLE dailyActivity ALTER COLUMN FairlyActiveMinutes INTEGER;\r\n",
                "ALTER TABLE dailyActivity ALTER COLUMN LightlyActiveMinutes INTEGER;\r\n",
                "ALTER TABLE dailyActivity ALTER COLUMN SedentaryMinutes INTEGER;\r\n",
                "ALTER TABLE dailyActivity ALTER COLUMN Calories INTEGER;"
            ],
            "metadata": {
                "azdata_cell_guid": "d3a7e01c-17eb-48f5-83a4-116e268e68af",
                "language": "sql"
            },
            "outputs": [
                {
                    "output_type": "display_data",
                    "data": {
                        "text/html": "Commands completed successfully."
                    },
                    "metadata": {}
                },
                {
                    "output_type": "display_data",
                    "data": {
                        "text/html": "Total execution time: 00:00:00.512"
                    },
                    "metadata": {}
                }
            ],
            "execution_count": 32
        },
        {
            "cell_type": "markdown",
            "source": [
                "3.1.5. Adding variable 'CaloriesLevel' \n",
                "\n",
                "This column will decribe the level of calories burned:\n",
                "\n",
                "\\- if Calories \\< 2000, the CaloriesLevel = Low;\n",
                "\n",
                "\\- if Calories \\>= 2000, then the CaloriesLevel = Normal."
            ],
            "metadata": {
                "azdata_cell_guid": "a8de08da-9d38-4377-bfe0-5833d3a02b5c"
            },
            "attachments": {}
        },
        {
            "cell_type": "code",
            "source": [
                "ALTER TABLE dailyActivity ADD CaloriesLevel AS (CASE WHEN Calories < 2000 THEN 'Low' ELSE 'Normal' END);"
            ],
            "metadata": {
                "azdata_cell_guid": "105e8bf1-0917-4ab5-8e62-8db50a68ccfe",
                "language": "sql"
            },
            "outputs": [
                {
                    "output_type": "display_data",
                    "data": {
                        "text/html": "Commands completed successfully."
                    },
                    "metadata": {}
                },
                {
                    "output_type": "display_data",
                    "data": {
                        "text/html": "Total execution time: 00:00:00.057"
                    },
                    "metadata": {}
                }
            ],
            "execution_count": 34
        },
        {
            "cell_type": "markdown",
            "source": [
                "### 3.1.6. Checking for ouliers\n",
                "\n",
                "In terms of mathematical statistic, outlier is a value that is not in range (average value +- 3\\* standard deviation), so I used to check every variable for having outliers:"
            ],
            "metadata": {
                "azdata_cell_guid": "1f9aeba5-078b-47c0-a943-f31d0620e123"
            },
            "attachments": {}
        },
        {
            "cell_type": "code",
            "source": [
                "-- checking the number of records by date\r\n",
                "WITH records AS \r\n",
                "(\r\n",
                "    SELECT\r\n",
                "        Date,\r\n",
                "        COUNT(*) OVER (PARTITION BY Date ORDER BY Date) AS NumberOfRecords -- counting num of records made each day\r\n",
                "    FROM dailyActivity\r\n",
                "),\r\n",
                "stats AS\r\n",
                "(\r\n",
                "    SELECT \r\n",
                "        STDEV(NumberOfRecords) AS StDeviation, -- counting standard deviation \r\n",
                "        AVG(NumberOfRecords) AS Average -- counting average value\r\n",
                "    FROM records\r\n",
                ")\r\n",
                "-- defining a date outlier \r\n",
                "SELECT DISTINCT Date, NumberOfRecords\r\n",
                "FROM records, stats\r\n",
                "WHERE NumberOfRecords < Average - 3 * StDeviation OR NumberOfRecords > Average + 3 * StDeviation;\r\n",
                "-- 2016-05-12 is an outlier with far less records made by users, because it was the last day of tracking"
            ],
            "metadata": {
                "azdata_cell_guid": "2f474c1b-88ba-475c-ad7a-04db2f5ce48e",
                "language": "sql"
            },
            "outputs": [
                {
                    "output_type": "display_data",
                    "data": {
                        "text/html": "(1 row affected)"
                    },
                    "metadata": {}
                },
                {
                    "output_type": "display_data",
                    "data": {
                        "text/html": "Total execution time: 00:00:00.083"
                    },
                    "metadata": {}
                },
                {
                    "output_type": "execute_result",
                    "execution_count": 29,
                    "data": {
                        "application/vnd.dataresource+json": {
                            "schema": {
                                "fields": [
                                    {
                                        "name": "Date"
                                    },
                                    {
                                        "name": "NumberOfRecords"
                                    }
                                ]
                            },
                            "data": [
                                {
                                    "0": "2016-05-12",
                                    "1": "21"
                                }
                            ]
                        },
                        "text/html": "<table><tr><th>Date</th><th>NumberOfRecords</th></tr><tr><td>2016-05-12</td><td>21</td></tr></table>"
                    },
                    "metadata": {}
                }
            ],
            "execution_count": 29
        },
        {
            "cell_type": "code",
            "source": [
                "-- checking the steps made each day\r\n",
                "WITH stats AS\r\n",
                "(\r\n",
                "    SELECT \r\n",
                "        STDEV(TotalSteps) AS StDeviation, -- counting standard deviation \r\n",
                "        AVG(TotalSteps) AS Average -- counting average value\r\n",
                "    FROM dailyActivity\r\n",
                ")\r\n",
                "-- defining a date outlier \r\n",
                "SELECT DISTINCT Id, Date, TotalSteps\r\n",
                "FROM dailyActivity, stats\r\n",
                "WHERE TotalSteps < Average - 3 * StDeviation OR TotalSteps > Average + 3 * StDeviation;\r\n",
                "-- there are six outliers than need some additional analysis to define what to do with them"
            ],
            "metadata": {
                "language": "sql",
                "azdata_cell_guid": "6fead54c-86c5-4a01-91f5-6e897d393583"
            },
            "outputs": [
                {
                    "output_type": "display_data",
                    "data": {
                        "text/html": "(6 rows affected)"
                    },
                    "metadata": {}
                },
                {
                    "output_type": "display_data",
                    "data": {
                        "text/html": "Total execution time: 00:00:00.037"
                    },
                    "metadata": {}
                },
                {
                    "output_type": "execute_result",
                    "execution_count": 32,
                    "data": {
                        "application/vnd.dataresource+json": {
                            "schema": {
                                "fields": [
                                    {
                                        "name": "Id"
                                    },
                                    {
                                        "name": "Date"
                                    },
                                    {
                                        "name": "TotalSteps"
                                    }
                                ]
                            },
                            "data": [
                                {
                                    "0": "1624580081",
                                    "1": "2016-05-01",
                                    "2": "36019"
                                },
                                {
                                    "0": "8053475328",
                                    "1": "2016-04-24",
                                    "2": "22988"
                                },
                                {
                                    "0": "8877689391",
                                    "1": "2016-04-12",
                                    "2": "23186"
                                },
                                {
                                    "0": "8877689391",
                                    "1": "2016-04-16",
                                    "2": "29326"
                                },
                                {
                                    "0": "8877689391",
                                    "1": "2016-04-27",
                                    "2": "23629"
                                },
                                {
                                    "0": "8877689391",
                                    "1": "2016-04-30",
                                    "2": "27745"
                                }
                            ]
                        },
                        "text/html": "<table><tr><th>Id</th><th>Date</th><th>TotalSteps</th></tr><tr><td>1624580081</td><td>2016-05-01</td><td>36019</td></tr><tr><td>8053475328</td><td>2016-04-24</td><td>22988</td></tr><tr><td>8877689391</td><td>2016-04-12</td><td>23186</td></tr><tr><td>8877689391</td><td>2016-04-16</td><td>29326</td></tr><tr><td>8877689391</td><td>2016-04-27</td><td>23629</td></tr><tr><td>8877689391</td><td>2016-04-30</td><td>27745</td></tr></table>"
                    },
                    "metadata": {}
                }
            ],
            "execution_count": 32
        },
        {
            "cell_type": "code",
            "source": [
                "-- checking the calories burned by users each date\r\n",
                "WITH stats AS\r\n",
                "(\r\n",
                "    SELECT \r\n",
                "        STDEV(Calories) AS StDeviation, -- counting standard deviation \r\n",
                "        AVG(Calories) AS Average -- counting average value\r\n",
                "    FROM dailyActivity\r\n",
                ")\r\n",
                "-- defining a date outlier \r\n",
                "SELECT DISTINCT Id, Date, Calories\r\n",
                "FROM dailyActivity, stats\r\n",
                "WHERE Calories < Average - 3 * StDeviation OR Calories > Average + 3 * StDeviation\r\n",
                "ORDER BY Date;\r\n",
                "-- there are 12 outliers "
            ],
            "metadata": {
                "language": "sql",
                "azdata_cell_guid": "04b5965d-1dee-4142-ad19-3eeaaa683ec1"
            },
            "outputs": [
                {
                    "output_type": "display_data",
                    "data": {
                        "text/html": "(12 rows affected)"
                    },
                    "metadata": {}
                },
                {
                    "output_type": "display_data",
                    "data": {
                        "text/html": "Total execution time: 00:00:00.062"
                    },
                    "metadata": {}
                },
                {
                    "output_type": "execute_result",
                    "execution_count": 34,
                    "data": {
                        "application/vnd.dataresource+json": {
                            "schema": {
                                "fields": [
                                    {
                                        "name": "Id"
                                    },
                                    {
                                        "name": "Date"
                                    },
                                    {
                                        "name": "Calories"
                                    }
                                ]
                            },
                            "data": [
                                {
                                    "0": "8877689391",
                                    "1": "2016-04-16",
                                    "2": "4547"
                                },
                                {
                                    "0": "5577150313",
                                    "1": "2016-04-17",
                                    "2": "4552"
                                },
                                {
                                    "0": "6117666160",
                                    "1": "2016-04-21",
                                    "2": "4900"
                                },
                                {
                                    "0": "5577150313",
                                    "1": "2016-04-30",
                                    "2": "4501"
                                },
                                {
                                    "0": "8253242879",
                                    "1": "2016-04-30",
                                    "2": "0"
                                },
                                {
                                    "0": "5577150313",
                                    "1": "2016-05-01",
                                    "2": "4546"
                                },
                                {
                                    "0": "7007744171",
                                    "1": "2016-05-07",
                                    "2": "120"
                                },
                                {
                                    "0": "6290855005",
                                    "1": "2016-05-10",
                                    "2": "0"
                                },
                                {
                                    "0": "8792009665",
                                    "1": "2016-05-10",
                                    "2": "57"
                                },
                                {
                                    "0": "3977333714",
                                    "1": "2016-05-11",
                                    "2": "52"
                                },
                                {
                                    "0": "1503960366",
                                    "1": "2016-05-12",
                                    "2": "0"
                                },
                                {
                                    "0": "8583815059",
                                    "1": "2016-05-12",
                                    "2": "0"
                                }
                            ]
                        },
                        "text/html": "<table><tr><th>Id</th><th>Date</th><th>Calories</th></tr><tr><td>8877689391</td><td>2016-04-16</td><td>4547</td></tr><tr><td>5577150313</td><td>2016-04-17</td><td>4552</td></tr><tr><td>6117666160</td><td>2016-04-21</td><td>4900</td></tr><tr><td>5577150313</td><td>2016-04-30</td><td>4501</td></tr><tr><td>8253242879</td><td>2016-04-30</td><td>0</td></tr><tr><td>5577150313</td><td>2016-05-01</td><td>4546</td></tr><tr><td>7007744171</td><td>2016-05-07</td><td>120</td></tr><tr><td>6290855005</td><td>2016-05-10</td><td>0</td></tr><tr><td>8792009665</td><td>2016-05-10</td><td>57</td></tr><tr><td>3977333714</td><td>2016-05-11</td><td>52</td></tr><tr><td>1503960366</td><td>2016-05-12</td><td>0</td></tr><tr><td>8583815059</td><td>2016-05-12</td><td>0</td></tr></table>"
                    },
                    "metadata": {}
                }
            ],
            "execution_count": 34
        },
        {
            "cell_type": "markdown",
            "source": [
                "Well, according to https://www.sleepfoundation.org/how-sleep-works/how-your-body-uses-calories-while-you-sleep#:~:text=How%20Many%20Calories%20Do%20You,metabolic%20rate2%20(BMR).\n",
                "\n",
                "Human burns at least 50 calories per hour even when doing nothing, sleeping and being sedentary. That's 1200 calories per day, so there's no way to burn less. I used to remove all the numbers less than 1200."
            ],
            "metadata": {
                "azdata_cell_guid": "dd3f1bef-8c62-4636-912e-b6678efca463"
            },
            "attachments": {}
        },
        {
            "cell_type": "code",
            "source": [
                "DELETE FROM dailyActivity WHERE Calories < 1200;"
            ],
            "metadata": {
                "azdata_cell_guid": "d19ebb43-d09b-4e83-bbd5-3b9aa7a19cc4",
                "language": "sql"
            },
            "outputs": [
                {
                    "output_type": "display_data",
                    "data": {
                        "text/html": "(18 rows affected)"
                    },
                    "metadata": {}
                },
                {
                    "output_type": "display_data",
                    "data": {
                        "text/html": "Total execution time: 00:00:00.091"
                    },
                    "metadata": {}
                }
            ],
            "execution_count": 35
        },
        {
            "cell_type": "markdown",
            "source": [
                "## 3.2. Cleaning 'heartrateSeconds' dataset\n",
                "\n",
                "3.2.1. Changing datatypes\n",
                "\n",
                "  \n",
                "\n",
                "All the data in the table has 'varchar' data type, so we need to change it to the types corresponding to the data:\n",
                "\n",
                "\\- 'Id' - bigint;\n",
                "\n",
                "\\- 'Time' - datetime;\n",
                "\n",
                "\\- 'Value' - integer."
            ],
            "metadata": {
                "azdata_cell_guid": "5441bec0-4e0a-4616-9a57-82506f95843b"
            },
            "attachments": {}
        },
        {
            "cell_type": "code",
            "source": [
                "ALTER TABLE heartrateSeconds ALTER COLUMN Id bigint;\r\n",
                "ALTER TABLE heartrateSeconds ALTER COLUMN Time datetime;\r\n",
                "ALTER TABLE heartrateSeconds ALTER COLUMN Value INTEGER;"
            ],
            "metadata": {
                "azdata_cell_guid": "d69a1a33-3e2c-4854-945a-9908b0e97751",
                "language": "sql"
            },
            "outputs": [
                {
                    "output_type": "display_data",
                    "data": {
                        "text/html": "Commands completed successfully."
                    },
                    "metadata": {}
                },
                {
                    "output_type": "display_data",
                    "data": {
                        "text/html": "Total execution time: 00:04:52.515"
                    },
                    "metadata": {}
                }
            ],
            "execution_count": 37
        },
        {
            "cell_type": "markdown",
            "source": [
                "3.2.2. Renaming column 'Value' to 'Heartrate'"
            ],
            "metadata": {
                "azdata_cell_guid": "1158cd75-ac14-4ac9-92d3-f7c3f5fed427"
            },
            "attachments": {}
        },
        {
            "cell_type": "code",
            "source": [
                "EXEC sp_rename 'heartrateSeconds.Value', 'Heartrate', 'COLUMN';"
            ],
            "metadata": {
                "azdata_cell_guid": "aa05eb38-d80e-4bed-8f62-a069d64845a2",
                "language": "sql"
            },
            "outputs": [
                {
                    "output_type": "display_data",
                    "data": {
                        "text/html": "Caution: Changing any part of an object name could break scripts and stored procedures."
                    },
                    "metadata": {}
                },
                {
                    "output_type": "display_data",
                    "data": {
                        "text/html": "Total execution time: 00:00:00.342"
                    },
                    "metadata": {}
                }
            ],
            "execution_count": 38
        },
        {
            "cell_type": "markdown",
            "source": [
                "3.2.3. Adding variables 'Date', 'Hour' and 'Minute'"
            ],
            "metadata": {
                "azdata_cell_guid": "f4b349e4-868d-4cec-9db1-62a7b35a1ca6"
            },
            "attachments": {}
        },
        {
            "cell_type": "code",
            "source": [
                "ALTER TABLE heartrateSeconds ADD \r\n",
                "    Date AS (CAST(Time AS date)),\r\n",
                "    Hour AS DATEPART(HOUR, Time),\r\n",
                "    Minute AS DATEPART(MINUTE, Time);"
            ],
            "metadata": {
                "azdata_cell_guid": "dfe07729-f526-4fb2-be83-abc6552bf3c8",
                "language": "sql"
            },
            "outputs": [
                {
                    "output_type": "display_data",
                    "data": {
                        "text/html": "Commands completed successfully."
                    },
                    "metadata": {}
                },
                {
                    "output_type": "display_data",
                    "data": {
                        "text/html": "Total execution time: 00:00:00.003"
                    },
                    "metadata": {}
                }
            ],
            "execution_count": 48
        },
        {
            "cell_type": "markdown",
            "source": [
                "3.2.4. Modifying table\n",
                "\n",
                "There's no need to save multiple heartrate records per minute, so I used to round 'Time' to minutes"
            ],
            "metadata": {
                "azdata_cell_guid": "816b02ae-cb01-45e3-aeec-f2a637bd2be8"
            },
            "attachments": {}
        },
        {
            "cell_type": "code",
            "source": [
                "ALTER TABLE heartrateSeconds ADD Datetime AS FORMAT(Time, 'dd-MM-yyyy HH:mm') "
            ],
            "metadata": {
                "azdata_cell_guid": "630e2f73-5489-4b64-b16b-3a481f7ef5ed",
                "language": "sql"
            },
            "outputs": [
                {
                    "output_type": "display_data",
                    "data": {
                        "text/html": "Commands completed successfully."
                    },
                    "metadata": {}
                },
                {
                    "output_type": "display_data",
                    "data": {
                        "text/html": "Total execution time: 00:00:00.004"
                    },
                    "metadata": {}
                }
            ],
            "execution_count": 58
        },
        {
            "cell_type": "markdown",
            "source": [
                "Then, rather than maintain a table with multiple heartrates per minute, I used to create table with average heartrates per minute, it would contain 10x less records and memory."
            ],
            "metadata": {
                "azdata_cell_guid": "1eb0257b-04fe-466e-8b8a-c2dfbe4a9caa"
            },
            "attachments": {}
        },
        {
            "cell_type": "code",
            "source": [
                "SELECT\r\n",
                "    Id,\r\n",
                "    Datetime,\r\n",
                "    Date,\r\n",
                "    Hour,\r\n",
                "    CAST(AVG(Heartrate) AS int) AS HeartRate\r\n",
                "INTO heartrateMinutes\r\n",
                "FROM heartrateSeconds\r\n",
                "GROUP BY Id, Datetime, Date, Hour;"
            ],
            "metadata": {
                "azdata_cell_guid": "2eff8bc5-13c0-4017-8c1c-f23e39cde1f8",
                "language": "sql"
            },
            "outputs": [
                {
                    "output_type": "display_data",
                    "data": {
                        "text/html": "(333420 rows affected)"
                    },
                    "metadata": {}
                },
                {
                    "output_type": "display_data",
                    "data": {
                        "text/html": "Total execution time: 00:01:36.531"
                    },
                    "metadata": {}
                }
            ],
            "execution_count": 64
        },
        {
            "cell_type": "markdown",
            "source": [
                "### 3.2.5. Adding variable 'HeartrateLevel'\n",
                "\n",
                "There are three levels of human's herartrate:\n",
                "\n",
                "\\- Low - less than 60 beats per minute (bpm);\n",
                "\n",
                "\\- Normal - 60-100 bpm;\n",
                "\n",
                "\\- High - more than 100 bpm.\n",
                "\n",
                "  \n",
                "\n",
                "I will include this information into the table:"
            ],
            "metadata": {
                "azdata_cell_guid": "805a82fb-4611-4545-82c5-047fc103c8b9"
            },
            "attachments": {}
        },
        {
            "cell_type": "code",
            "source": [
                "ALTER TABLE heartrateMinutes ADD HeartrateLevel AS\r\n",
                "(\r\n",
                "    CASE \r\n",
                "        WHEN HeartRate < 60 THEN 'Low'     -- if a heartrate is lower than 60 bpm, then that's a low heartrate\r\n",
                "        WHEN HeartRate > 100 THEN 'High'   -- if a heartrate is higher than 100 bpm, then that's a high heartrate\r\n",
                "        ELSE 'Normal'                      -- if a heartrate is 60-100 bpm, then that's a normal heartrate\r\n",
                "    END\r\n",
                ");"
            ],
            "metadata": {
                "azdata_cell_guid": "0211e0c8-358b-4a35-9d0d-c36079228ae5",
                "language": "sql"
            },
            "outputs": [
                {
                    "output_type": "display_data",
                    "data": {
                        "text/html": "Commands completed successfully."
                    },
                    "metadata": {}
                },
                {
                    "output_type": "display_data",
                    "data": {
                        "text/html": "Total execution time: 00:00:00.020"
                    },
                    "metadata": {}
                }
            ],
            "execution_count": 65
        },
        {
            "cell_type": "markdown",
            "source": [
                "Then I used to delete 'heartrateSeconds' dataset to save memory:"
            ],
            "metadata": {
                "azdata_cell_guid": "51af79c7-4623-499a-8ec8-98e79985728c"
            },
            "attachments": {}
        },
        {
            "cell_type": "code",
            "source": [
                "DROP TABLE heartrateSeconds;"
            ],
            "metadata": {
                "azdata_cell_guid": "277b0cb5-8ba7-4167-9084-454886360bb4",
                "language": "sql"
            },
            "outputs": [
                {
                    "output_type": "display_data",
                    "data": {
                        "text/html": "Commands completed successfully."
                    },
                    "metadata": {}
                },
                {
                    "output_type": "display_data",
                    "data": {
                        "text/html": "Total execution time: 00:00:00.031"
                    },
                    "metadata": {}
                }
            ],
            "execution_count": 66
        },
        {
            "cell_type": "markdown",
            "source": [
                "### 3.2.6. Checking for duplicates"
            ],
            "metadata": {
                "azdata_cell_guid": "e5047329-edca-450c-bad2-4b831b36d25f"
            },
            "attachments": {}
        },
        {
            "cell_type": "code",
            "source": [
                "SELECT\r\n",
                "    Id, \r\n",
                "    Datetime,\r\n",
                "    COUNT(*) AS numOfDuplicates\r\n",
                "FROM heartrateMinutes\r\n",
                "GROUP BY Id, Datetime\r\n",
                "HAVING COUNT(*) > 1; -- checking rows that have multiple entries = duplicates"
            ],
            "metadata": {
                "azdata_cell_guid": "a5926e2f-836a-486a-b7f4-cf0ad575b85b",
                "language": "sql"
            },
            "outputs": [
                {
                    "output_type": "display_data",
                    "data": {
                        "text/html": "(0 rows affected)"
                    },
                    "metadata": {}
                },
                {
                    "output_type": "display_data",
                    "data": {
                        "text/html": "Total execution time: 00:00:01.228"
                    },
                    "metadata": {}
                },
                {
                    "output_type": "execute_result",
                    "execution_count": 69,
                    "data": {
                        "application/vnd.dataresource+json": {
                            "schema": {
                                "fields": [
                                    {
                                        "name": "Id"
                                    },
                                    {
                                        "name": "Datetime"
                                    },
                                    {
                                        "name": "numOfDuplicates"
                                    }
                                ]
                            },
                            "data": []
                        },
                        "text/html": "<table><tr><th>Id</th><th>Datetime</th><th>numOfDuplicates</th></tr></table>"
                    },
                    "metadata": {}
                }
            ],
            "execution_count": 69
        },
        {
            "cell_type": "markdown",
            "source": [
                "## 3.3. Processing 'sleepDay' dataset\n",
                "\n",
                "### 3.3.1. Changing datatypes"
            ],
            "metadata": {
                "azdata_cell_guid": "3c4a9304-0855-4daa-8375-7e1015c4f01c"
            },
            "attachments": {}
        },
        {
            "cell_type": "code",
            "source": [
                "ALTER TABLE sleepDay ALTER COLUMN Id bigint; -- changing datatype of Id from varchar to big integer\r\n",
                "ALTER TABLE sleepDay ALTER COLUMN SleepDay Date; -- changing datatype from varchar to date\r\n",
                "ALTER TABLE sleepDay ALTER COLUMN TotalSleepRecords int; -- from varchar to int\r\n",
                "ALTER TABLE sleepDay ALTER COLUMN TotalMinutesAsleep int; -- from varchar to int\r\n",
                "ALTER TABLE sleepDay ALTER COLUMN TotalTimeInBed int; -- from varchar to int"
            ],
            "metadata": {
                "azdata_cell_guid": "66e77a28-e4d9-4f4b-9ef4-4d059b26e2a5",
                "language": "sql"
            },
            "outputs": [
                {
                    "output_type": "display_data",
                    "data": {
                        "text/html": "Commands completed successfully."
                    },
                    "metadata": {}
                },
                {
                    "output_type": "display_data",
                    "data": {
                        "text/html": "Total execution time: 00:00:00.111"
                    },
                    "metadata": {}
                }
            ],
            "execution_count": 71
        },
        {
            "cell_type": "markdown",
            "source": [
                "### 3.3.2. Checking for duplicates"
            ],
            "metadata": {
                "azdata_cell_guid": "140aeeb1-96c0-4f65-bd09-e2d3f8becbab"
            },
            "attachments": {}
        },
        {
            "cell_type": "code",
            "source": [
                "SELECT \r\n",
                "    Id,\r\n",
                "    SleepDay,\r\n",
                "    COUNT(*) AS NumOfDuplicates\r\n",
                "FROM sleepDay\r\n",
                "GROUP BY Id, SleepDay\r\n",
                "HAVING COUNT(*) > 1; -- detect records that are repeated in the table (duplicates)"
            ],
            "metadata": {
                "azdata_cell_guid": "64bc754e-018a-46cc-9037-e5f906187383",
                "language": "sql"
            },
            "outputs": [
                {
                    "output_type": "display_data",
                    "data": {
                        "text/html": "(3 rows affected)"
                    },
                    "metadata": {}
                },
                {
                    "output_type": "display_data",
                    "data": {
                        "text/html": "Total execution time: 00:00:00.045"
                    },
                    "metadata": {}
                },
                {
                    "output_type": "execute_result",
                    "execution_count": 72,
                    "data": {
                        "application/vnd.dataresource+json": {
                            "schema": {
                                "fields": [
                                    {
                                        "name": "Id"
                                    },
                                    {
                                        "name": "SleepDay"
                                    },
                                    {
                                        "name": "NumOfDuplicates"
                                    }
                                ]
                            },
                            "data": [
                                {
                                    "0": "8378563200",
                                    "1": "2016-04-25",
                                    "2": "2"
                                },
                                {
                                    "0": "4388161847",
                                    "1": "2016-05-05",
                                    "2": "2"
                                },
                                {
                                    "0": "4702921684",
                                    "1": "2016-05-07",
                                    "2": "2"
                                }
                            ]
                        },
                        "text/html": "<table><tr><th>Id</th><th>SleepDay</th><th>NumOfDuplicates</th></tr><tr><td>8378563200</td><td>2016-04-25</td><td>2</td></tr><tr><td>4388161847</td><td>2016-05-05</td><td>2</td></tr><tr><td>4702921684</td><td>2016-05-07</td><td>2</td></tr></table>"
                    },
                    "metadata": {}
                }
            ],
            "execution_count": 72
        },
        {
            "cell_type": "markdown",
            "source": [
                "There are 3 duplicate entries, so I must delete them."
            ],
            "metadata": {
                "azdata_cell_guid": "4876423f-4928-4e70-8587-0ae27a4fcb2a"
            },
            "attachments": {}
        },
        {
            "cell_type": "code",
            "source": [
                "WITH duplicateTable AS \r\n",
                "(\r\n",
                "    SELECT *, \r\n",
                "        ROW_NUMBER() OVER -- count the number of unique entries\r\n",
                "        (\r\n",
                "            PARTITION BY Id, SleepDay -- group by primary key (Id + SleepDay) but not change the number of rows\r\n",
                "            ORDER BY Id, SleepDay -- sort by primary key\r\n",
                "        ) AS numOfRecords\r\n",
                "    FROM sleepDay\r\n",
                ")\r\n",
                "DELETE FROM duplicateTable WHERE numOfRecords <> 1; -- delete all the non-unique entries with keeping the original"
            ],
            "metadata": {
                "azdata_cell_guid": "af65066b-609c-43e7-be74-657319838aba",
                "language": "sql"
            },
            "outputs": [
                {
                    "output_type": "display_data",
                    "data": {
                        "text/html": "(3 rows affected)"
                    },
                    "metadata": {}
                },
                {
                    "output_type": "display_data",
                    "data": {
                        "text/html": "Total execution time: 00:00:00.033"
                    },
                    "metadata": {}
                }
            ],
            "execution_count": 73
        },
        {
            "cell_type": "markdown",
            "source": [
                "### 3.3.3. Rename 'SleepDay' column to 'Date'"
            ],
            "metadata": {
                "azdata_cell_guid": "159810d2-f613-4ad5-ab6d-e50194ecdad3"
            },
            "attachments": {}
        },
        {
            "cell_type": "code",
            "source": [
                "EXEC sp_rename 'sleepDay.SleepDay', 'Date', 'COLUMN';"
            ],
            "metadata": {
                "azdata_cell_guid": "e87302e6-b789-40be-98de-fd36c3d4d61a",
                "language": "sql"
            },
            "outputs": [
                {
                    "output_type": "display_data",
                    "data": {
                        "text/html": "Caution: Changing any part of an object name could break scripts and stored procedures."
                    },
                    "metadata": {}
                },
                {
                    "output_type": "display_data",
                    "data": {
                        "text/html": "Total execution time: 00:00:00.549"
                    },
                    "metadata": {}
                }
            ],
            "execution_count": 76
        },
        {
            "cell_type": "markdown",
            "source": [
                "### 3.3.4. Adding 'SleepRate' column\n",
                "\n",
                "Daily sleeping norm for women is 7-9 hours (420-540 minutes) . that's normal level of sleeping. \n",
                "\n",
                "If less than 7 hours - 'Lack of dleep',\n",
                "\n",
                "If more than 9 hours - 'Oversleeping'"
            ],
            "metadata": {
                "language": "sql",
                "azdata_cell_guid": "bcacedb7-9b50-4cb0-a676-9ace88f6738c"
            },
            "attachments": {}
        },
        {
            "cell_type": "code",
            "source": [
                "ALTER TABLE sleepDay \r\n",
                "ADD SleepRate AS\r\n",
                "(\r\n",
                "    CASE \r\n",
                "    WHEN TotalMinutesAsleep < 420 THEN 'Lack of sleep'\r\n",
                "    WHEN TotalMinutesAsleep > 540 THEN 'Oversleeping'\r\n",
                "    ELSE 'Normal sleep'\r\n",
                "    END\r\n",
                ");"
            ],
            "metadata": {
                "azdata_cell_guid": "ac7495e1-0766-4fa6-82d9-424e5d6a2ccf",
                "language": "sql"
            },
            "outputs": [
                {
                    "output_type": "display_data",
                    "data": {
                        "text/html": "Commands completed successfully."
                    },
                    "metadata": {}
                },
                {
                    "output_type": "display_data",
                    "data": {
                        "text/html": "Total execution time: 00:00:00.069"
                    },
                    "metadata": {}
                }
            ],
            "execution_count": 77
        },
        {
            "cell_type": "markdown",
            "source": [
                "### 3.3.5. Checking for outliers"
            ],
            "metadata": {
                "language": "sql",
                "azdata_cell_guid": "83ddc1a3-5965-48c2-af22-a94346a7546b"
            },
            "attachments": {}
        },
        {
            "cell_type": "code",
            "source": [
                "-- checking the number of records by date\r\n",
                "WITH stats AS\r\n",
                "(\r\n",
                "    SELECT \r\n",
                "        STDEV(TotalMinutesAsleep) AS StDeviation, -- counting standard deviation \r\n",
                "        AVG(TotalMinutesAsleep) AS Average -- counting average value\r\n",
                "    FROM sleepDay\r\n",
                ")\r\n",
                "-- defining a date outlier \r\n",
                "SELECT DISTINCT Id, Date, TotalMinutesAsleep\r\n",
                "FROM sleepDay, stats\r\n",
                "WHERE TotalMinutesAsleep < Average - 3 * StDeviation OR TotalMinutesAsleep > Average + 3 * StDeviation;\r\n",
                "-- 6 outliers than need an additional analysis"
            ],
            "metadata": {
                "language": "sql",
                "azdata_cell_guid": "03c80b1b-51a6-492e-b246-364178465d60"
            },
            "outputs": [
                {
                    "output_type": "display_data",
                    "data": {
                        "text/html": "(6 rows affected)"
                    },
                    "metadata": {}
                },
                {
                    "output_type": "display_data",
                    "data": {
                        "text/html": "Total execution time: 00:00:00.107"
                    },
                    "metadata": {}
                },
                {
                    "output_type": "execute_result",
                    "execution_count": 38,
                    "data": {
                        "application/vnd.dataresource+json": {
                            "schema": {
                                "fields": [
                                    {
                                        "name": "Id"
                                    },
                                    {
                                        "name": "Date"
                                    },
                                    {
                                        "name": "TotalMinutesAsleep"
                                    }
                                ]
                            },
                            "data": [
                                {
                                    "0": "1644430081",
                                    "1": "2016-05-02",
                                    "2": "796"
                                },
                                {
                                    "0": "2320127002",
                                    "1": "2016-04-23",
                                    "2": "61"
                                },
                                {
                                    "0": "4319703577",
                                    "1": "2016-04-21",
                                    "2": "59"
                                },
                                {
                                    "0": "4388161847",
                                    "1": "2016-05-09",
                                    "2": "62"
                                },
                                {
                                    "0": "5553957443",
                                    "1": "2016-04-30",
                                    "2": "775"
                                },
                                {
                                    "0": "7007744171",
                                    "1": "2016-05-01",
                                    "2": "58"
                                }
                            ]
                        },
                        "text/html": "<table><tr><th>Id</th><th>Date</th><th>TotalMinutesAsleep</th></tr><tr><td>1644430081</td><td>2016-05-02</td><td>796</td></tr><tr><td>2320127002</td><td>2016-04-23</td><td>61</td></tr><tr><td>4319703577</td><td>2016-04-21</td><td>59</td></tr><tr><td>4388161847</td><td>2016-05-09</td><td>62</td></tr><tr><td>5553957443</td><td>2016-04-30</td><td>775</td></tr><tr><td>7007744171</td><td>2016-05-01</td><td>58</td></tr></table>"
                    },
                    "metadata": {}
                }
            ],
            "execution_count": 38
        },
        {
            "cell_type": "markdown",
            "source": [
                "### 3.3.6. Adding 'TimeBeforeSleep' column\n",
                "\n",
                "Which describes how much time we spend from going in bed and finally falling asleep."
            ],
            "metadata": {
                "language": "sql",
                "azdata_cell_guid": "376149d1-5c07-42dc-92a9-cd57b85bfb1b"
            },
            "attachments": {}
        },
        {
            "cell_type": "code",
            "source": [
                "ALTER TABLE sleepDay ADD TimeBeforeSleep AS (TotalTimeInBed - TotalMinutesAsleep);"
            ],
            "metadata": {
                "language": "sql",
                "azdata_cell_guid": "ee65f9d8-8e4f-48e9-b34a-f1a17c8a2613"
            },
            "outputs": [
                {
                    "output_type": "display_data",
                    "data": {
                        "text/html": "Commands completed successfully."
                    },
                    "metadata": {}
                },
                {
                    "output_type": "display_data",
                    "data": {
                        "text/html": "Total execution time: 00:00:00.053"
                    },
                    "metadata": {}
                }
            ],
            "execution_count": 39
        },
        {
            "cell_type": "code",
            "source": [
                "SELECT TOP 5 * FROM sleepDay;"
            ],
            "metadata": {
                "language": "sql",
                "azdata_cell_guid": "ccd57c55-6ce5-400a-9aae-b33fff7874ae"
            },
            "outputs": [
                {
                    "output_type": "display_data",
                    "data": {
                        "text/html": "(5 rows affected)"
                    },
                    "metadata": {}
                },
                {
                    "output_type": "display_data",
                    "data": {
                        "text/html": "Total execution time: 00:00:00.027"
                    },
                    "metadata": {}
                },
                {
                    "output_type": "execute_result",
                    "execution_count": 40,
                    "data": {
                        "application/vnd.dataresource+json": {
                            "schema": {
                                "fields": [
                                    {
                                        "name": "Id"
                                    },
                                    {
                                        "name": "Date"
                                    },
                                    {
                                        "name": "TotalSleepRecords"
                                    },
                                    {
                                        "name": "TotalMinutesAsleep"
                                    },
                                    {
                                        "name": "TotalTimeInBed"
                                    },
                                    {
                                        "name": "SleepRate"
                                    },
                                    {
                                        "name": "TimeBeforeSleep"
                                    }
                                ]
                            },
                            "data": [
                                {
                                    "0": "1503960366",
                                    "1": "2016-04-12",
                                    "2": "1",
                                    "3": "327",
                                    "4": "346",
                                    "5": "Lack of sleep",
                                    "6": "19"
                                },
                                {
                                    "0": "1503960366",
                                    "1": "2016-04-13",
                                    "2": "2",
                                    "3": "384",
                                    "4": "407",
                                    "5": "Lack of sleep",
                                    "6": "23"
                                },
                                {
                                    "0": "1503960366",
                                    "1": "2016-04-15",
                                    "2": "1",
                                    "3": "412",
                                    "4": "442",
                                    "5": "Lack of sleep",
                                    "6": "30"
                                },
                                {
                                    "0": "1503960366",
                                    "1": "2016-04-16",
                                    "2": "2",
                                    "3": "340",
                                    "4": "367",
                                    "5": "Lack of sleep",
                                    "6": "27"
                                },
                                {
                                    "0": "1503960366",
                                    "1": "2016-04-17",
                                    "2": "1",
                                    "3": "700",
                                    "4": "712",
                                    "5": "Oversleeping",
                                    "6": "12"
                                }
                            ]
                        },
                        "text/html": "<table><tr><th>Id</th><th>Date</th><th>TotalSleepRecords</th><th>TotalMinutesAsleep</th><th>TotalTimeInBed</th><th>SleepRate</th><th>TimeBeforeSleep</th></tr><tr><td>1503960366</td><td>2016-04-12</td><td>1</td><td>327</td><td>346</td><td>Lack of sleep</td><td>19</td></tr><tr><td>1503960366</td><td>2016-04-13</td><td>2</td><td>384</td><td>407</td><td>Lack of sleep</td><td>23</td></tr><tr><td>1503960366</td><td>2016-04-15</td><td>1</td><td>412</td><td>442</td><td>Lack of sleep</td><td>30</td></tr><tr><td>1503960366</td><td>2016-04-16</td><td>2</td><td>340</td><td>367</td><td>Lack of sleep</td><td>27</td></tr><tr><td>1503960366</td><td>2016-04-17</td><td>1</td><td>700</td><td>712</td><td>Oversleeping</td><td>12</td></tr></table>"
                    },
                    "metadata": {}
                }
            ],
            "execution_count": 40
        },
        {
            "cell_type": "markdown",
            "source": [
                "## 3.4. Cleaning 'weightLogInfo'\n",
                "\n",
                "### 3.4.1. Removing 'FAT' column"
            ],
            "metadata": {
                "azdata_cell_guid": "1cb9435a-a71e-470a-9177-240e9e85d773"
            },
            "attachments": {}
        },
        {
            "cell_type": "code",
            "source": [
                "SELECT COUNT(*) AS NumberOfNAs FROM weightLogInfo \r\n",
                "WHERE FAT = ''; "
            ],
            "metadata": {
                "azdata_cell_guid": "c7f2b7ac-73df-4f96-a502-60fdb48dac8b",
                "language": "sql"
            },
            "outputs": [
                {
                    "output_type": "display_data",
                    "data": {
                        "text/html": "(1 row affected)"
                    },
                    "metadata": {}
                },
                {
                    "output_type": "display_data",
                    "data": {
                        "text/html": "Total execution time: 00:00:00.018"
                    },
                    "metadata": {}
                },
                {
                    "output_type": "execute_result",
                    "execution_count": 82,
                    "data": {
                        "application/vnd.dataresource+json": {
                            "schema": {
                                "fields": [
                                    {
                                        "name": "NumberOfNAs"
                                    }
                                ]
                            },
                            "data": [
                                {
                                    "0": "65"
                                }
                            ]
                        },
                        "text/html": "<table><tr><th>NumberOfNAs</th></tr><tr><td>65</td></tr></table>"
                    },
                    "metadata": {}
                }
            ],
            "execution_count": 82
        },
        {
            "cell_type": "markdown",
            "source": [
                "65/67 values of FAT column are empty, so the data in this column is incomplete, and I must remove the column."
            ],
            "metadata": {
                "azdata_cell_guid": "fdf86d92-c398-4ccc-9d00-c1368f9b30bb"
            },
            "attachments": {}
        },
        {
            "cell_type": "code",
            "source": [
                "ALTER TABLE weightLogInfo DROP COLUMN FAT;"
            ],
            "metadata": {
                "azdata_cell_guid": "bb8d1e86-05c4-4406-9430-5bc629f54310",
                "language": "sql"
            },
            "outputs": [
                {
                    "output_type": "display_data",
                    "data": {
                        "text/html": "Commands completed successfully."
                    },
                    "metadata": {}
                },
                {
                    "output_type": "display_data",
                    "data": {
                        "text/html": "Total execution time: 00:00:00.064"
                    },
                    "metadata": {}
                }
            ],
            "execution_count": 3
        },
        {
            "cell_type": "markdown",
            "source": [
                "### 3.4.2. Changing data types of all columns"
            ],
            "metadata": {
                "azdata_cell_guid": "7567e2cd-795a-404e-b157-ad1869121910"
            },
            "attachments": {}
        },
        {
            "cell_type": "code",
            "source": [
                "ALTER TABLE weightLogInfo ALTER COLUMN Id bigint; -- change 'Id' data type from varchar to big integer\r\n",
                "ALTER TABLE weightLogInfo ALTER COLUMN Date date; -- change 'Date' data type from varchar to date\r\n",
                "ALTER TABLE weightLogInfo ALTER COLUMN WeightKg float; -- change 'WeightKg' data type from varchar to float\r\n",
                "ALTER TABLE weightLogInfo ALTER COLUMN WeightPounds float; -- change 'WeightPounds' data type from varchar to float\r\n",
                "ALTER TABLE weightLogInfo ALTER COLUMN BMI float; -- change 'BMI' data type from varchar to float\r\n",
                "ALTER TABLE weightLogInfo ALTER COLUMN IsManualReport bit; -- change 'IsManualReport' data type from varchar to bit\r\n",
                "ALTER TABLE weightLogInfo ALTER COLUMN LogId bigint; -- change 'LogId' data type from varchar to big integer"
            ],
            "metadata": {
                "azdata_cell_guid": "a7388614-e64d-4a2c-80d3-c4de3d88b9e2",
                "language": "sql"
            },
            "outputs": [
                {
                    "output_type": "display_data",
                    "data": {
                        "text/html": "Commands completed successfully."
                    },
                    "metadata": {}
                },
                {
                    "output_type": "display_data",
                    "data": {
                        "text/html": "Total execution time: 00:00:00.089"
                    },
                    "metadata": {}
                }
            ],
            "execution_count": 4
        },
        {
            "cell_type": "markdown",
            "source": [
                "### 3.4.3. Checking for duplicates"
            ],
            "metadata": {
                "language": "sql",
                "azdata_cell_guid": "c3ecc92f-8f05-44e5-a90c-bc10ff6c82bc"
            },
            "attachments": {}
        },
        {
            "cell_type": "code",
            "source": [
                "SELECT \r\n",
                "    Id,\r\n",
                "    Date,\r\n",
                "    COUNT(*) AS NumOfDuplicates -- count the number of primary key (Id + Date) entries\r\n",
                "FROM weightLogInfo\r\n",
                "GROUP BY Id, Date\r\n",
                "HAVING COUNT(*) > 1; -- output all the non-unique values"
            ],
            "metadata": {
                "language": "sql",
                "azdata_cell_guid": "a061f721-574a-4b59-8c41-b80de3a40a01"
            },
            "outputs": [
                {
                    "output_type": "display_data",
                    "data": {
                        "text/html": "(0 rows affected)"
                    },
                    "metadata": {}
                },
                {
                    "output_type": "display_data",
                    "data": {
                        "text/html": "Total execution time: 00:00:00.016"
                    },
                    "metadata": {}
                },
                {
                    "output_type": "execute_result",
                    "execution_count": 6,
                    "data": {
                        "application/vnd.dataresource+json": {
                            "schema": {
                                "fields": [
                                    {
                                        "name": "Id"
                                    },
                                    {
                                        "name": "Date"
                                    },
                                    {
                                        "name": "NumOfDuplicates"
                                    }
                                ]
                            },
                            "data": []
                        },
                        "text/html": "<table><tr><th>Id</th><th>Date</th><th>NumOfDuplicates</th></tr></table>"
                    },
                    "metadata": {}
                }
            ],
            "execution_count": 6
        },
        {
            "cell_type": "markdown",
            "source": [
                "There's no duplicates.\n",
                "\n",
                "### 3.4.4. Rename 'BMI' to 'BodyMassIndex'\n",
                "\n",
                "BMI is an abbreviation, so not everybody can understand it. I used to name the column by its full name."
            ],
            "metadata": {
                "language": "sql",
                "azdata_cell_guid": "d7df75b6-7e22-4a91-8f66-ece9c061dfd0"
            },
            "attachments": {}
        },
        {
            "cell_type": "code",
            "source": [
                "-- rename weightLogInfo column from BMI to BodyMassIndex using sp_rename function\r\n",
                "EXEC sp_rename 'weightLogInfo.BMI', 'BodyMassIndex', 'COLUMN';"
            ],
            "metadata": {
                "language": "sql",
                "azdata_cell_guid": "9e33ee4f-6d57-42c0-8348-60c5ef982ce5"
            },
            "outputs": [
                {
                    "output_type": "display_data",
                    "data": {
                        "text/html": "Caution: Changing any part of an object name could break scripts and stored procedures."
                    },
                    "metadata": {}
                },
                {
                    "output_type": "display_data",
                    "data": {
                        "text/html": "Total execution time: 00:00:00.538"
                    },
                    "metadata": {}
                }
            ],
            "execution_count": 7
        },
        {
            "cell_type": "markdown",
            "source": [
                "### 3.4.4. Adding 'BodyFatRank' column\n",
                "\n",
                "This column will rank womens' BMI according to the next criterias:\n",
                "\n",
                "- 'Normal' BMI - 18.5-24.9 kg/m^2;\n",
                "- 'Underweight' - less than 18.5 kg/m^2;\n",
                "- 'Overweight' - more than 24.9 kg/m^2."
            ],
            "metadata": {
                "language": "sql",
                "azdata_cell_guid": "1f2baa85-9893-4031-b641-dfdc559b510c"
            },
            "attachments": {}
        },
        {
            "cell_type": "code",
            "source": [
                "ALTER TABLE weightLogInfo ADD BodyFatRank AS -- add column 'BodyFatRank' which is calculated as:\r\n",
                "(\r\n",
                "    CASE\r\n",
                "    WHEN BodyMassIndex < 18.5 THEN 'Underweight' -- if a BMI is lower than 18.4, then a person is underweight\r\n",
                "    WHEN BodyMassIndex > 24.9 THEN 'Overweight' -- if a BMI is higher than 24.9, then a person is overweight\r\n",
                "    ELSE 'Normal' -- if a BMI is 18.5-24.9, the person has normal body fat\r\n",
                "    END\r\n",
                ");"
            ],
            "metadata": {
                "language": "sql",
                "azdata_cell_guid": "8bbeb167-9a4e-4813-8643-84b7e3f50b26"
            },
            "outputs": [
                {
                    "output_type": "display_data",
                    "data": {
                        "text/html": "Commands completed successfully."
                    },
                    "metadata": {}
                },
                {
                    "output_type": "display_data",
                    "data": {
                        "text/html": "Total execution time: 00:00:00.013"
                    },
                    "metadata": {}
                }
            ],
            "execution_count": 8
        },
        {
            "cell_type": "markdown",
            "source": [
                "# 4\\. Analysis\n",
                "\n",
                "## 4.1. Finding the start and end date of tracking in each dataset"
            ],
            "metadata": {
                "azdata_cell_guid": "baf1c173-f199-4398-833b-3d0fb579147f"
            },
            "attachments": {}
        },
        {
            "cell_type": "code",
            "source": [
                "SELECT MIN(Date) AS StartDate, MAX(Date) AS EndDate FROM dailyActivity;\r\n",
                "SELECT MIN(Date) AS StartDate, MAX(Date) AS EndDate FROM sleepDay;\r\n",
                "SELECT MIN(Date) AS StartDate, MAX(Date) AS EndDate FROM heartrateMinutes;\r\n",
                "SELECT MIN(Date) AS StartDate, MAX(Date) AS EndDate FROM weightLogInfo;\r\n",
                "-- in all tables tracking time is from 2016-05-12 to 2016-05-12"
            ],
            "metadata": {
                "azdata_cell_guid": "a7c4be91-6403-4255-b29c-0ca162cd2e48",
                "language": "sql"
            },
            "outputs": [
                {
                    "output_type": "display_data",
                    "data": {
                        "text/html": "(1 row affected)"
                    },
                    "metadata": {}
                },
                {
                    "output_type": "display_data",
                    "data": {
                        "text/html": "(1 row affected)"
                    },
                    "metadata": {}
                },
                {
                    "output_type": "display_data",
                    "data": {
                        "text/html": "(1 row affected)"
                    },
                    "metadata": {}
                },
                {
                    "output_type": "display_data",
                    "data": {
                        "text/html": "(1 row affected)"
                    },
                    "metadata": {}
                },
                {
                    "output_type": "display_data",
                    "data": {
                        "text/html": "Total execution time: 00:00:00.234"
                    },
                    "metadata": {}
                },
                {
                    "output_type": "execute_result",
                    "execution_count": 10,
                    "data": {
                        "application/vnd.dataresource+json": {
                            "schema": {
                                "fields": [
                                    {
                                        "name": "StartDate"
                                    },
                                    {
                                        "name": "EndDate"
                                    }
                                ]
                            },
                            "data": [
                                {
                                    "0": "2016-04-12",
                                    "1": "2016-05-12"
                                }
                            ]
                        },
                        "text/html": "<table><tr><th>StartDate</th><th>EndDate</th></tr><tr><td>2016-04-12</td><td>2016-05-12</td></tr></table>"
                    },
                    "metadata": {}
                },
                {
                    "output_type": "execute_result",
                    "execution_count": 10,
                    "data": {
                        "application/vnd.dataresource+json": {
                            "schema": {
                                "fields": [
                                    {
                                        "name": "StartDate"
                                    },
                                    {
                                        "name": "EndDate"
                                    }
                                ]
                            },
                            "data": [
                                {
                                    "0": "2016-04-12",
                                    "1": "2016-05-12"
                                }
                            ]
                        },
                        "text/html": "<table><tr><th>StartDate</th><th>EndDate</th></tr><tr><td>2016-04-12</td><td>2016-05-12</td></tr></table>"
                    },
                    "metadata": {}
                },
                {
                    "output_type": "execute_result",
                    "execution_count": 10,
                    "data": {
                        "application/vnd.dataresource+json": {
                            "schema": {
                                "fields": [
                                    {
                                        "name": "StartDate"
                                    },
                                    {
                                        "name": "EndDate"
                                    }
                                ]
                            },
                            "data": [
                                {
                                    "0": "2016-04-12",
                                    "1": "2016-05-12"
                                }
                            ]
                        },
                        "text/html": "<table><tr><th>StartDate</th><th>EndDate</th></tr><tr><td>2016-04-12</td><td>2016-05-12</td></tr></table>"
                    },
                    "metadata": {}
                },
                {
                    "output_type": "execute_result",
                    "execution_count": 10,
                    "data": {
                        "application/vnd.dataresource+json": {
                            "schema": {
                                "fields": [
                                    {
                                        "name": "StartDate"
                                    },
                                    {
                                        "name": "EndDate"
                                    }
                                ]
                            },
                            "data": [
                                {
                                    "0": "2016-04-12",
                                    "1": "2016-05-12"
                                }
                            ]
                        },
                        "text/html": "<table><tr><th>StartDate</th><th>EndDate</th></tr><tr><td>2016-04-12</td><td>2016-05-12</td></tr></table>"
                    },
                    "metadata": {}
                }
            ],
            "execution_count": 10
        },
        {
            "cell_type": "markdown",
            "source": [
                "## 4.2. 'dailyActivity' explorating\n",
                "\n",
                "### Researching averages"
            ],
            "metadata": {
                "azdata_cell_guid": "ace2896d-3a96-40b8-89b5-09542fef4c29"
            },
            "attachments": {}
        },
        {
            "cell_type": "code",
            "source": [
                "-- average scores of each Id\r\n",
                "SELECT\r\n",
                "    Id,\r\n",
                "    AVG(TotalSteps) AS AvgSteps,\r\n",
                "    AVG(VeryActiveDistance) AS AvgVeryActiveDistance,\r\n",
                "    AVG(VeryActiveMinutes) AS AvgVeryActiveMinutes,\r\n",
                "    AVG(SedentaryMinutes) AS AvgSedentary,\r\n",
                "    AVG(Calories) AS AvgCalories\r\n",
                "FROM dailyActivity\r\n",
                "GROUP BY Id;"
            ],
            "metadata": {
                "language": "sql",
                "azdata_cell_guid": "90ab3c6b-4ece-4082-833e-fdb6665edc43"
            },
            "outputs": [
                {
                    "output_type": "display_data",
                    "data": {
                        "text/html": "(33 rows affected)"
                    },
                    "metadata": {}
                },
                {
                    "output_type": "display_data",
                    "data": {
                        "text/html": "Total execution time: 00:00:00.093"
                    },
                    "metadata": {}
                },
                {
                    "output_type": "execute_result",
                    "execution_count": 41,
                    "data": {
                        "application/vnd.dataresource+json": {
                            "schema": {
                                "fields": [
                                    {
                                        "name": "Id"
                                    },
                                    {
                                        "name": "AvgSteps"
                                    },
                                    {
                                        "name": "AvgVeryActiveDistance"
                                    },
                                    {
                                        "name": "AvgVeryActiveMinutes"
                                    },
                                    {
                                        "name": "AvgSedentary"
                                    },
                                    {
                                        "name": "AvgCalories"
                                    }
                                ]
                            },
                            "data": [
                                {
                                    "0": "1644430081",
                                    "1": "7282",
                                    "2": "0,7300000009437403",
                                    "3": "9",
                                    "4": "1161",
                                    "5": "2811"
                                },
                                {
                                    "0": "7086361926",
                                    "1": "9557",
                                    "2": "2,8613333364327747",
                                    "3": "43",
                                    "4": "867",
                                    "5": "2611"
                                },
                                {
                                    "0": "4702921684",
                                    "1": "8572",
                                    "2": "0,41741935476180064",
                                    "3": "5",
                                    "4": "766",
                                    "5": "2965"
                                },
                                {
                                    "0": "3977333714",
                                    "1": "11337",
                                    "2": "1,6579310161800218",
                                    "3": "19",
                                    "4": "731",
                                    "5": "1564"
                                },
                                {
                                    "0": "6290855005",
                                    "1": "5851",
                                    "2": "0,08857142925262469",
                                    "3": "2",
                                    "4": "1184",
                                    "5": "2692"
                                },
                                {
                                    "0": "3372868164",
                                    "1": "6861",
                                    "2": "0,6294999971985812",
                                    "3": "9",
                                    "4": "1077",
                                    "5": "1933"
                                },
                                {
                                    "0": "8877689391",
                                    "1": "16040",
                                    "2": "6,637419362342162",
                                    "3": "66",
                                    "4": "1112",
                                    "5": "3420"
                                },
                                {
                                    "0": "2026352035",
                                    "1": "5743",
                                    "2": "0,0063333332538604665",
                                    "3": "0",
                                    "4": "679",
                                    "5": "1553"
                                },
                                {
                                    "0": "5577150313",
                                    "1": "8304",
                                    "2": "3,113666655619939",
                                    "3": "87",
                                    "4": "754",
                                    "5": "3359"
                                },
                                {
                                    "0": "4319703577",
                                    "1": "7510",
                                    "2": "0,28733333349227924",
                                    "3": "3",
                                    "4": "760",
                                    "5": "2097"
                                },
                                {
                                    "0": "4020332650",
                                    "1": "2323",
                                    "2": "0,14699999640385303",
                                    "3": "5",
                                    "4": "1254",
                                    "5": "2428"
                                },
                                {
                                    "0": "4057192912",
                                    "1": "3838",
                                    "2": "0,05249999836087225",
                                    "3": "0",
                                    "4": "1217",
                                    "5": "1973"
                                },
                                {
                                    "0": "8053475328",
                                    "1": "14763",
                                    "2": "8,514838741671657",
                                    "3": "85",
                                    "4": "1148",
                                    "5": "2945"
                                },
                                {
                                    "0": "4445114986",
                                    "1": "4796",
                                    "2": "0,5232258109796432",
                                    "3": "6",
                                    "4": "829",
                                    "5": "2186"
                                },
                                {
                                    "0": "6962181067",
                                    "1": "10001",
                                    "2": "1,670333339770635",
                                    "3": "23",
                                    "4": "680",
                                    "5": "2017"
                                },
                                {
                                    "0": "8792009665",
                                    "1": "1919",
                                    "2": "0,02571428607084919",
                                    "3": "1",
                                    "4": "1096",
                                    "5": "2030"
                                },
                                {
                                    "0": "2022484408",
                                    "1": "11370",
                                    "2": "2,4216128837677737",
                                    "3": "36",
                                    "4": "1112",
                                    "5": "2509"
                                },
                                {
                                    "0": "8378563200",
                                    "1": "8717",
                                    "2": "2,503548401978707",
                                    "3": "58",
                                    "4": "716",
                                    "5": "3436"
                                },
                                {
                                    "0": "1927972279",
                                    "1": "916",
                                    "2": "0,09580645085342482",
                                    "3": "1",
                                    "4": "1317",
                                    "5": "2172"
                                },
                                {
                                    "0": "2320127002",
                                    "1": "4785",
                                    "2": "0,1103333327919245",
                                    "3": "1",
                                    "4": "1233",
                                    "5": "1744"
                                },
                                {
                                    "0": "5553957443",
                                    "1": "8795",
                                    "2": "1,49366666773955",
                                    "3": "23",
                                    "4": "683",
                                    "5": "1913"
                                },
                                {
                                    "0": "7007744171",
                                    "1": "11776",
                                    "2": "2,5115999865531924",
                                    "3": "32",
                                    "4": "1093",
                                    "5": "2640"
                                },
                                {
                                    "0": "1503960366",
                                    "1": "12520",
                                    "2": "2,9536666830380756",
                                    "3": "40",
                                    "4": "828",
                                    "5": "1876"
                                },
                                {
                                    "0": "8583815059",
                                    "1": "7438",
                                    "2": "0,8246666766703131",
                                    "3": "10",
                                    "4": "1261",
                                    "5": "2823"
                                },
                                {
                                    "0": "4558609924",
                                    "1": "7685",
                                    "2": "0,5493548389884728",
                                    "3": "10",
                                    "4": "1093",
                                    "5": "2033"
                                },
                                {
                                    "0": "2873212765",
                                    "1": "7555",
                                    "2": "0,6761290309650283",
                                    "3": "14",
                                    "4": "1097",
                                    "5": "1916"
                                },
                                {
                                    "0": "4388161847",
                                    "1": "10813",
                                    "2": "1,7193548346479097",
                                    "3": "23",
                                    "4": "836",
                                    "5": "3093"
                                },
                                {
                                    "0": "6775888955",
                                    "1": "2541",
                                    "2": "0,7323999975621696",
                                    "3": "11",
                                    "4": "1329",
                                    "5": "2175"
                                },
                                {
                                    "0": "1624580081",
                                    "1": "5836",
                                    "2": "0,9706666707992535",
                                    "3": "8",
                                    "4": "1270",
                                    "5": "1499"
                                },
                                {
                                    "0": "1844505072",
                                    "1": "2666",
                                    "2": "0,0086666665971279",
                                    "3": "0",
                                    "4": "1223",
                                    "5": "1603"
                                },
                                {
                                    "0": "6117666160",
                                    "1": "7046",
                                    "2": "0,12821428477764124",
                                    "3": "1",
                                    "4": "796",
                                    "5": "2261"
                                },
                                {
                                    "0": "2347167796",
                                    "1": "10077",
                                    "2": "1,1217646938474737",
                                    "3": "14",
                                    "4": "727",
                                    "5": "2139"
                                },
                                {
                                    "0": "8253242879",
                                    "1": "6842",
                                    "2": "2,337222183744112",
                                    "3": "21",
                                    "4": "1278",
                                    "5": "1887"
                                }
                            ]
                        },
                        "text/html": "<table><tr><th>Id</th><th>AvgSteps</th><th>AvgVeryActiveDistance</th><th>AvgVeryActiveMinutes</th><th>AvgSedentary</th><th>AvgCalories</th></tr><tr><td>1644430081</td><td>7282</td><td>0,7300000009437403</td><td>9</td><td>1161</td><td>2811</td></tr><tr><td>7086361926</td><td>9557</td><td>2,8613333364327747</td><td>43</td><td>867</td><td>2611</td></tr><tr><td>4702921684</td><td>8572</td><td>0,41741935476180064</td><td>5</td><td>766</td><td>2965</td></tr><tr><td>3977333714</td><td>11337</td><td>1,6579310161800218</td><td>19</td><td>731</td><td>1564</td></tr><tr><td>6290855005</td><td>5851</td><td>0,08857142925262469</td><td>2</td><td>1184</td><td>2692</td></tr><tr><td>3372868164</td><td>6861</td><td>0,6294999971985812</td><td>9</td><td>1077</td><td>1933</td></tr><tr><td>8877689391</td><td>16040</td><td>6,637419362342162</td><td>66</td><td>1112</td><td>3420</td></tr><tr><td>2026352035</td><td>5743</td><td>0,0063333332538604665</td><td>0</td><td>679</td><td>1553</td></tr><tr><td>5577150313</td><td>8304</td><td>3,113666655619939</td><td>87</td><td>754</td><td>3359</td></tr><tr><td>4319703577</td><td>7510</td><td>0,28733333349227924</td><td>3</td><td>760</td><td>2097</td></tr><tr><td>4020332650</td><td>2323</td><td>0,14699999640385303</td><td>5</td><td>1254</td><td>2428</td></tr><tr><td>4057192912</td><td>3838</td><td>0,05249999836087225</td><td>0</td><td>1217</td><td>1973</td></tr><tr><td>8053475328</td><td>14763</td><td>8,514838741671657</td><td>85</td><td>1148</td><td>2945</td></tr><tr><td>4445114986</td><td>4796</td><td>0,5232258109796432</td><td>6</td><td>829</td><td>2186</td></tr><tr><td>6962181067</td><td>10001</td><td>1,670333339770635</td><td>23</td><td>680</td><td>2017</td></tr><tr><td>8792009665</td><td>1919</td><td>0,02571428607084919</td><td>1</td><td>1096</td><td>2030</td></tr><tr><td>2022484408</td><td>11370</td><td>2,4216128837677737</td><td>36</td><td>1112</td><td>2509</td></tr><tr><td>8378563200</td><td>8717</td><td>2,503548401978707</td><td>58</td><td>716</td><td>3436</td></tr><tr><td>1927972279</td><td>916</td><td>0,09580645085342482</td><td>1</td><td>1317</td><td>2172</td></tr><tr><td>2320127002</td><td>4785</td><td>0,1103333327919245</td><td>1</td><td>1233</td><td>1744</td></tr><tr><td>5553957443</td><td>8795</td><td>1,49366666773955</td><td>23</td><td>683</td><td>1913</td></tr><tr><td>7007744171</td><td>11776</td><td>2,5115999865531924</td><td>32</td><td>1093</td><td>2640</td></tr><tr><td>1503960366</td><td>12520</td><td>2,9536666830380756</td><td>40</td><td>828</td><td>1876</td></tr><tr><td>8583815059</td><td>7438</td><td>0,8246666766703131</td><td>10</td><td>1261</td><td>2823</td></tr><tr><td>4558609924</td><td>7685</td><td>0,5493548389884728</td><td>10</td><td>1093</td><td>2033</td></tr><tr><td>2873212765</td><td>7555</td><td>0,6761290309650283</td><td>14</td><td>1097</td><td>1916</td></tr><tr><td>4388161847</td><td>10813</td><td>1,7193548346479097</td><td>23</td><td>836</td><td>3093</td></tr><tr><td>6775888955</td><td>2541</td><td>0,7323999975621696</td><td>11</td><td>1329</td><td>2175</td></tr><tr><td>1624580081</td><td>5836</td><td>0,9706666707992535</td><td>8</td><td>1270</td><td>1499</td></tr><tr><td>1844505072</td><td>2666</td><td>0,0086666665971279</td><td>0</td><td>1223</td><td>1603</td></tr><tr><td>6117666160</td><td>7046</td><td>0,12821428477764124</td><td>1</td><td>796</td><td>2261</td></tr><tr><td>2347167796</td><td>10077</td><td>1,1217646938474737</td><td>14</td><td>727</td><td>2139</td></tr><tr><td>8253242879</td><td>6842</td><td>2,337222183744112</td><td>21</td><td>1278</td><td>1887</td></tr></table>"
                    },
                    "metadata": {}
                }
            ],
            "execution_count": 41
        },
        {
            "cell_type": "markdown",
            "source": [
                "### Calories burned vs. Activity distances and total steps"
            ],
            "metadata": {
                "azdata_cell_guid": "791cf2e7-47b6-4642-a59b-cb770363d290"
            },
            "attachments": {}
        },
        {
            "cell_type": "code",
            "source": [
                "-- checking the relation between active distances and calories burned\r\n",
                "SELECT TOP 20\r\n",
                "    Id,\r\n",
                "    Date,\r\n",
                "    Calories,\r\n",
                "    VeryActiveDistance, \r\n",
                "    ModeratelyActiveDistance, \r\n",
                "    LightActiveDistance\r\n",
                "FROM dailyActivity\r\n",
                "ORDER BY Calories DESC;"
            ],
            "metadata": {
                "language": "sql",
                "azdata_cell_guid": "5fb80b33-7e59-4b98-a81a-1369cce660bf"
            },
            "outputs": [
                {
                    "output_type": "display_data",
                    "data": {
                        "text/html": "(20 rows affected)"
                    },
                    "metadata": {}
                },
                {
                    "output_type": "display_data",
                    "data": {
                        "text/html": "Total execution time: 00:00:05.759"
                    },
                    "metadata": {}
                },
                {
                    "output_type": "execute_result",
                    "metadata": {},
                    "execution_count": 1,
                    "data": {
                        "application/vnd.dataresource+json": {
                            "schema": {
                                "fields": [
                                    {
                                        "name": "Id"
                                    },
                                    {
                                        "name": "Date"
                                    },
                                    {
                                        "name": "Calories"
                                    },
                                    {
                                        "name": "VeryActiveDistance"
                                    },
                                    {
                                        "name": "ModeratelyActiveDistance"
                                    },
                                    {
                                        "name": "LightActiveDistance"
                                    }
                                ]
                            },
                            "data": [
                                {
                                    "0": "6117666160",
                                    "1": "2016-04-21",
                                    "2": "4900",
                                    "3": "0,980000019073486",
                                    "4": "0,400000005960464",
                                    "5": "5,61999988555908"
                                },
                                {
                                    "0": "5577150313",
                                    "1": "2016-04-17",
                                    "2": "4552",
                                    "3": "5,98000001907349",
                                    "4": "0,829999983310699",
                                    "5": "2,3199999332428"
                                },
                                {
                                    "0": "8877689391",
                                    "1": "2016-04-16",
                                    "2": "4547",
                                    "3": "13,2399997711182",
                                    "4": "1,21000003814697",
                                    "5": "10,710000038147"
                                },
                                {
                                    "0": "5577150313",
                                    "1": "2016-05-01",
                                    "2": "4546",
                                    "3": "5,30999994277954",
                                    "4": "1,44000005722046",
                                    "5": "3,24000000953674"
                                },
                                {
                                    "0": "5577150313",
                                    "1": "2016-04-30",
                                    "2": "4501",
                                    "3": "5,82999992370605",
                                    "4": "0,790000021457672",
                                    "5": "2,60999989509583"
                                },
                                {
                                    "0": "8877689391",
                                    "1": "2016-04-30",
                                    "2": "4398",
                                    "3": "21,6599998474121",
                                    "4": "0,0799999982118607",
                                    "5": "4,92999982833862"
                                },
                                {
                                    "0": "5577150313",
                                    "1": "2016-04-24",
                                    "2": "4392",
                                    "3": "7,65000009536743",
                                    "4": "2,15000009536743",
                                    "5": "1,98000001907349"
                                },
                                {
                                    "0": "5577150313",
                                    "1": "2016-04-16",
                                    "2": "4274",
                                    "3": "6,6399998664856",
                                    "4": "1,27999997138977",
                                    "5": "2,73000001907349"
                                },
                                {
                                    "0": "8378563200",
                                    "1": "2016-04-21",
                                    "2": "4236",
                                    "3": "6,90000009536743",
                                    "4": "0,819999992847443",
                                    "5": "4,28999996185303"
                                },
                                {
                                    "0": "8378563200",
                                    "1": "2016-04-14",
                                    "2": "4163",
                                    "3": "5,61999988555908",
                                    "4": "1,02999997138977",
                                    "5": "3,91000008583069"
                                },
                                {
                                    "0": "8378563200",
                                    "1": "2016-04-18",
                                    "2": "4157",
                                    "3": "5,05000019073486",
                                    "4": "0,560000002384186",
                                    "5": "5,19999980926514"
                                },
                                {
                                    "0": "8877689391",
                                    "1": "2016-05-07",
                                    "2": "4142",
                                    "3": "0,0799999982118607",
                                    "4": "0,959999978542328",
                                    "5": "6,98999977111816"
                                },
                                {
                                    "0": "8378563200",
                                    "1": "2016-04-19",
                                    "2": "4092",
                                    "3": "5,30000019073486",
                                    "4": "0,879999995231628",
                                    "5": "4,17999982833862"
                                },
                                {
                                    "0": "8378563200",
                                    "1": "2016-04-13",
                                    "2": "4079",
                                    "3": "4,96000003814697",
                                    "4": "0,649999976158142",
                                    "5": "4,21000003814697"
                                },
                                {
                                    "0": "8378563200",
                                    "1": "2016-04-22",
                                    "2": "4044",
                                    "3": "4,90999984741211",
                                    "4": "0,589999973773956",
                                    "5": "4,17999982833862"
                                },
                                {
                                    "0": "4388161847",
                                    "1": "2016-05-07",
                                    "2": "4022",
                                    "3": "9,44999980926514",
                                    "4": "2,76999998092651",
                                    "5": "5,32999992370605"
                                },
                                {
                                    "0": "5577150313",
                                    "1": "2016-04-14",
                                    "2": "4022",
                                    "3": "3,32999992370605",
                                    "4": "0,310000002384186",
                                    "5": "2,77999997138977"
                                },
                                {
                                    "0": "5577150313",
                                    "1": "2016-04-21",
                                    "2": "4018",
                                    "3": "3,65000009536743",
                                    "4": "1,6599999666214",
                                    "5": "2,77999997138977"
                                },
                                {
                                    "0": "8877689391",
                                    "1": "2016-05-06",
                                    "2": "4015",
                                    "3": "12,789999961853",
                                    "4": "0,28999999165535",
                                    "5": "6,15999984741211"
                                },
                                {
                                    "0": "5577150313",
                                    "1": "2016-04-15",
                                    "2": "4005",
                                    "3": "3,92000007629395",
                                    "4": "1,60000002384186",
                                    "5": "3,55999994277954"
                                }
                            ]
                        },
                        "text/html": [
                            "<table>",
                            "<tr><th>Id</th><th>Date</th><th>Calories</th><th>VeryActiveDistance</th><th>ModeratelyActiveDistance</th><th>LightActiveDistance</th></tr>",
                            "<tr><td>6117666160</td><td>2016-04-21</td><td>4900</td><td>0,980000019073486</td><td>0,400000005960464</td><td>5,61999988555908</td></tr>",
                            "<tr><td>5577150313</td><td>2016-04-17</td><td>4552</td><td>5,98000001907349</td><td>0,829999983310699</td><td>2,3199999332428</td></tr>",
                            "<tr><td>8877689391</td><td>2016-04-16</td><td>4547</td><td>13,2399997711182</td><td>1,21000003814697</td><td>10,710000038147</td></tr>",
                            "<tr><td>5577150313</td><td>2016-05-01</td><td>4546</td><td>5,30999994277954</td><td>1,44000005722046</td><td>3,24000000953674</td></tr>",
                            "<tr><td>5577150313</td><td>2016-04-30</td><td>4501</td><td>5,82999992370605</td><td>0,790000021457672</td><td>2,60999989509583</td></tr>",
                            "<tr><td>8877689391</td><td>2016-04-30</td><td>4398</td><td>21,6599998474121</td><td>0,0799999982118607</td><td>4,92999982833862</td></tr>",
                            "<tr><td>5577150313</td><td>2016-04-24</td><td>4392</td><td>7,65000009536743</td><td>2,15000009536743</td><td>1,98000001907349</td></tr>",
                            "<tr><td>5577150313</td><td>2016-04-16</td><td>4274</td><td>6,6399998664856</td><td>1,27999997138977</td><td>2,73000001907349</td></tr>",
                            "<tr><td>8378563200</td><td>2016-04-21</td><td>4236</td><td>6,90000009536743</td><td>0,819999992847443</td><td>4,28999996185303</td></tr>",
                            "<tr><td>8378563200</td><td>2016-04-14</td><td>4163</td><td>5,61999988555908</td><td>1,02999997138977</td><td>3,91000008583069</td></tr>",
                            "<tr><td>8378563200</td><td>2016-04-18</td><td>4157</td><td>5,05000019073486</td><td>0,560000002384186</td><td>5,19999980926514</td></tr>",
                            "<tr><td>8877689391</td><td>2016-05-07</td><td>4142</td><td>0,0799999982118607</td><td>0,959999978542328</td><td>6,98999977111816</td></tr>",
                            "<tr><td>8378563200</td><td>2016-04-19</td><td>4092</td><td>5,30000019073486</td><td>0,879999995231628</td><td>4,17999982833862</td></tr>",
                            "<tr><td>8378563200</td><td>2016-04-13</td><td>4079</td><td>4,96000003814697</td><td>0,649999976158142</td><td>4,21000003814697</td></tr>",
                            "<tr><td>8378563200</td><td>2016-04-22</td><td>4044</td><td>4,90999984741211</td><td>0,589999973773956</td><td>4,17999982833862</td></tr>",
                            "<tr><td>4388161847</td><td>2016-05-07</td><td>4022</td><td>9,44999980926514</td><td>2,76999998092651</td><td>5,32999992370605</td></tr>",
                            "<tr><td>5577150313</td><td>2016-04-14</td><td>4022</td><td>3,32999992370605</td><td>0,310000002384186</td><td>2,77999997138977</td></tr>",
                            "<tr><td>5577150313</td><td>2016-04-21</td><td>4018</td><td>3,65000009536743</td><td>1,6599999666214</td><td>2,77999997138977</td></tr>",
                            "<tr><td>8877689391</td><td>2016-05-06</td><td>4015</td><td>12,789999961853</td><td>0,28999999165535</td><td>6,15999984741211</td></tr>",
                            "<tr><td>5577150313</td><td>2016-04-15</td><td>4005</td><td>3,92000007629395</td><td>1,60000002384186</td><td>3,55999994277954</td></tr>",
                            "</table>"
                        ]
                    }
                }
            ],
            "execution_count": 1
        },
        {
            "cell_type": "markdown",
            "source": [
                "### Calories burned vs. Activity minutes"
            ],
            "metadata": {
                "azdata_cell_guid": "71b789fd-c4fc-4490-8c65-74cdd0365ba1"
            },
            "attachments": {}
        },
        {
            "cell_type": "code",
            "source": [
                "-- checking a relation between activity minutes and calories burned\r\n",
                "SELECT TOP 20 -- top 20 only for exploratory and memory saving\r\n",
                "    Id,\r\n",
                "    Date,\r\n",
                "    Calories,\r\n",
                "    VeryActiveMinutes, \r\n",
                "    FairlyActiveMinutes, \r\n",
                "    LightlyActiveMinutes,\r\n",
                "    SedentaryMinutes\r\n",
                "FROM dailyActivity\r\n",
                "ORDER BY Calories DESC;"
            ],
            "metadata": {
                "language": "sql",
                "azdata_cell_guid": "3393a65f-0b48-435b-9e67-06449a8cf45e"
            },
            "outputs": [
                {
                    "output_type": "display_data",
                    "data": {
                        "text/html": "(20 rows affected)"
                    },
                    "metadata": {}
                },
                {
                    "output_type": "display_data",
                    "data": {
                        "text/html": "Total execution time: 00:00:00.066"
                    },
                    "metadata": {}
                },
                {
                    "output_type": "execute_result",
                    "metadata": {},
                    "execution_count": 2,
                    "data": {
                        "application/vnd.dataresource+json": {
                            "schema": {
                                "fields": [
                                    {
                                        "name": "Id"
                                    },
                                    {
                                        "name": "Date"
                                    },
                                    {
                                        "name": "Calories"
                                    },
                                    {
                                        "name": "VeryActiveMinutes"
                                    },
                                    {
                                        "name": "FairlyActiveMinutes"
                                    },
                                    {
                                        "name": "LightlyActiveMinutes"
                                    },
                                    {
                                        "name": "SedentaryMinutes"
                                    }
                                ]
                            },
                            "data": [
                                {
                                    "0": "6117666160",
                                    "1": "2016-04-21",
                                    "2": "4900",
                                    "3": "11",
                                    "4": "19",
                                    "5": "294",
                                    "6": "579"
                                },
                                {
                                    "0": "5577150313",
                                    "1": "2016-04-17",
                                    "2": "4552",
                                    "3": "200",
                                    "4": "37",
                                    "5": "159",
                                    "6": "525"
                                },
                                {
                                    "0": "8877689391",
                                    "1": "2016-04-16",
                                    "2": "4547",
                                    "3": "94",
                                    "4": "29",
                                    "5": "429",
                                    "6": "888"
                                },
                                {
                                    "0": "5577150313",
                                    "1": "2016-05-01",
                                    "2": "4546",
                                    "3": "194",
                                    "4": "72",
                                    "5": "178",
                                    "6": "499"
                                },
                                {
                                    "0": "5577150313",
                                    "1": "2016-04-30",
                                    "2": "4501",
                                    "3": "207",
                                    "4": "45",
                                    "5": "163",
                                    "6": "621"
                                },
                                {
                                    "0": "8877689391",
                                    "1": "2016-04-30",
                                    "2": "4398",
                                    "3": "124",
                                    "4": "4",
                                    "5": "223",
                                    "6": "1089"
                                },
                                {
                                    "0": "5577150313",
                                    "1": "2016-04-24",
                                    "2": "4392",
                                    "3": "210",
                                    "4": "65",
                                    "5": "141",
                                    "6": "425"
                                },
                                {
                                    "0": "5577150313",
                                    "1": "2016-04-16",
                                    "2": "4274",
                                    "3": "184",
                                    "4": "56",
                                    "5": "158",
                                    "6": "472"
                                },
                                {
                                    "0": "8378563200",
                                    "1": "2016-04-21",
                                    "2": "4236",
                                    "3": "137",
                                    "4": "16",
                                    "5": "145",
                                    "6": "677"
                                },
                                {
                                    "0": "8378563200",
                                    "1": "2016-04-14",
                                    "2": "4163",
                                    "3": "123",
                                    "4": "21",
                                    "5": "174",
                                    "6": "699"
                                },
                                {
                                    "0": "8378563200",
                                    "1": "2016-04-18",
                                    "2": "4157",
                                    "3": "117",
                                    "4": "10",
                                    "5": "174",
                                    "6": "720"
                                },
                                {
                                    "0": "8877689391",
                                    "1": "2016-05-07",
                                    "2": "4142",
                                    "3": "105",
                                    "4": "28",
                                    "5": "271",
                                    "6": "1036"
                                },
                                {
                                    "0": "8378563200",
                                    "1": "2016-04-19",
                                    "2": "4092",
                                    "3": "120",
                                    "4": "19",
                                    "5": "154",
                                    "6": "737"
                                },
                                {
                                    "0": "8378563200",
                                    "1": "2016-04-13",
                                    "2": "4079",
                                    "3": "116",
                                    "4": "14",
                                    "5": "169",
                                    "6": "680"
                                },
                                {
                                    "0": "8378563200",
                                    "1": "2016-04-22",
                                    "2": "4044",
                                    "3": "113",
                                    "4": "12",
                                    "5": "159",
                                    "6": "769"
                                },
                                {
                                    "0": "4388161847",
                                    "1": "2016-05-07",
                                    "2": "4022",
                                    "3": "120",
                                    "4": "56",
                                    "5": "260",
                                    "6": "508"
                                },
                                {
                                    "0": "5577150313",
                                    "1": "2016-04-14",
                                    "2": "4022",
                                    "3": "118",
                                    "4": "30",
                                    "5": "176",
                                    "6": "662"
                                },
                                {
                                    "0": "5577150313",
                                    "1": "2016-04-21",
                                    "2": "4018",
                                    "3": "110",
                                    "4": "74",
                                    "5": "175",
                                    "6": "670"
                                },
                                {
                                    "0": "8877689391",
                                    "1": "2016-05-06",
                                    "2": "4015",
                                    "3": "96",
                                    "4": "17",
                                    "5": "232",
                                    "6": "1095"
                                },
                                {
                                    "0": "5577150313",
                                    "1": "2016-04-15",
                                    "2": "4005",
                                    "3": "115",
                                    "4": "54",
                                    "5": "199",
                                    "6": "695"
                                }
                            ]
                        },
                        "text/html": [
                            "<table>",
                            "<tr><th>Id</th><th>Date</th><th>Calories</th><th>VeryActiveMinutes</th><th>FairlyActiveMinutes</th><th>LightlyActiveMinutes</th><th>SedentaryMinutes</th></tr>",
                            "<tr><td>6117666160</td><td>2016-04-21</td><td>4900</td><td>11</td><td>19</td><td>294</td><td>579</td></tr>",
                            "<tr><td>5577150313</td><td>2016-04-17</td><td>4552</td><td>200</td><td>37</td><td>159</td><td>525</td></tr>",
                            "<tr><td>8877689391</td><td>2016-04-16</td><td>4547</td><td>94</td><td>29</td><td>429</td><td>888</td></tr>",
                            "<tr><td>5577150313</td><td>2016-05-01</td><td>4546</td><td>194</td><td>72</td><td>178</td><td>499</td></tr>",
                            "<tr><td>5577150313</td><td>2016-04-30</td><td>4501</td><td>207</td><td>45</td><td>163</td><td>621</td></tr>",
                            "<tr><td>8877689391</td><td>2016-04-30</td><td>4398</td><td>124</td><td>4</td><td>223</td><td>1089</td></tr>",
                            "<tr><td>5577150313</td><td>2016-04-24</td><td>4392</td><td>210</td><td>65</td><td>141</td><td>425</td></tr>",
                            "<tr><td>5577150313</td><td>2016-04-16</td><td>4274</td><td>184</td><td>56</td><td>158</td><td>472</td></tr>",
                            "<tr><td>8378563200</td><td>2016-04-21</td><td>4236</td><td>137</td><td>16</td><td>145</td><td>677</td></tr>",
                            "<tr><td>8378563200</td><td>2016-04-14</td><td>4163</td><td>123</td><td>21</td><td>174</td><td>699</td></tr>",
                            "<tr><td>8378563200</td><td>2016-04-18</td><td>4157</td><td>117</td><td>10</td><td>174</td><td>720</td></tr>",
                            "<tr><td>8877689391</td><td>2016-05-07</td><td>4142</td><td>105</td><td>28</td><td>271</td><td>1036</td></tr>",
                            "<tr><td>8378563200</td><td>2016-04-19</td><td>4092</td><td>120</td><td>19</td><td>154</td><td>737</td></tr>",
                            "<tr><td>8378563200</td><td>2016-04-13</td><td>4079</td><td>116</td><td>14</td><td>169</td><td>680</td></tr>",
                            "<tr><td>8378563200</td><td>2016-04-22</td><td>4044</td><td>113</td><td>12</td><td>159</td><td>769</td></tr>",
                            "<tr><td>4388161847</td><td>2016-05-07</td><td>4022</td><td>120</td><td>56</td><td>260</td><td>508</td></tr>",
                            "<tr><td>5577150313</td><td>2016-04-14</td><td>4022</td><td>118</td><td>30</td><td>176</td><td>662</td></tr>",
                            "<tr><td>5577150313</td><td>2016-04-21</td><td>4018</td><td>110</td><td>74</td><td>175</td><td>670</td></tr>",
                            "<tr><td>8877689391</td><td>2016-05-06</td><td>4015</td><td>96</td><td>17</td><td>232</td><td>1095</td></tr>",
                            "<tr><td>5577150313</td><td>2016-04-15</td><td>4005</td><td>115</td><td>54</td><td>199</td><td>695</td></tr>",
                            "</table>"
                        ]
                    }
                }
            ],
            "execution_count": 2
        },
        {
            "cell_type": "markdown",
            "source": [
                "### Calories level stats\n",
                "\n",
                "Let's see the proportion between normal calories burned and low calories burned in the tracking period."
            ],
            "metadata": {
                "azdata_cell_guid": "1fdf0b6d-70a8-4ec0-a09d-64711120b3e2"
            },
            "attachments": {}
        },
        {
            "cell_type": "code",
            "source": [
                "SELECT \r\n",
                "    CaloriesLevel,\r\n",
                "    COUNT(*) AS Frequency\r\n",
                "FROM dailyActivity\r\n",
                "GROUP BY CaloriesLevel;"
            ],
            "metadata": {
                "azdata_cell_guid": "dcdabb66-b5ac-4174-a358-ab8279d01d8b",
                "language": "sql"
            },
            "outputs": [
                {
                    "output_type": "display_data",
                    "data": {
                        "text/html": "(2 rows affected)"
                    },
                    "metadata": {}
                },
                {
                    "output_type": "display_data",
                    "data": {
                        "text/html": "Total execution time: 00:00:00.063"
                    },
                    "metadata": {}
                },
                {
                    "output_type": "execute_result",
                    "execution_count": 57,
                    "data": {
                        "application/vnd.dataresource+json": {
                            "schema": {
                                "fields": [
                                    {
                                        "name": "CaloriesLevel"
                                    },
                                    {
                                        "name": "Frequency"
                                    }
                                ]
                            },
                            "data": [
                                {
                                    "0": "Normal",
                                    "1": "571"
                                },
                                {
                                    "0": "Low",
                                    "1": "351"
                                }
                            ]
                        },
                        "text/html": "<table><tr><th>CaloriesLevel</th><th>Frequency</th></tr><tr><td>Normal</td><td>571</td></tr><tr><td>Low</td><td>351</td></tr></table>"
                    },
                    "metadata": {}
                }
            ],
            "execution_count": 57
        },
        {
            "cell_type": "markdown",
            "source": [
                "There are 571 records with normal calories level, and 351 - with low calories level."
            ],
            "metadata": {
                "language": "sql",
                "azdata_cell_guid": "4b624d40-6fcc-454c-a04b-293e7c99d0d3"
            }
        },
        {
            "cell_type": "markdown",
            "source": [
                "## BMI (Body mass index) level stats"
            ],
            "metadata": {
                "language": "sql",
                "azdata_cell_guid": "94cd1068-b02d-46dc-9268-484c404ee1b1"
            },
            "attachments": {}
        },
        {
            "cell_type": "code",
            "source": [
                "SELECT DISTINCT Id, BodyFatRank, COUNT (*) AS Frequency -- count a number of records of each body fat level\r\n",
                "FROM weightLogInfo\r\n",
                "GROUP BY Id, BodyFatRank;"
            ],
            "metadata": {
                "language": "sql",
                "azdata_cell_guid": "df091b89-4a86-46dc-b889-8b83d8ecdee7"
            },
            "outputs": [
                {
                    "output_type": "display_data",
                    "data": {
                        "text/html": "(8 rows affected)"
                    },
                    "metadata": {}
                },
                {
                    "output_type": "display_data",
                    "data": {
                        "text/html": "Total execution time: 00:00:00.044"
                    },
                    "metadata": {}
                },
                {
                    "output_type": "execute_result",
                    "execution_count": 4,
                    "data": {
                        "application/vnd.dataresource+json": {
                            "schema": {
                                "fields": [
                                    {
                                        "name": "Id"
                                    },
                                    {
                                        "name": "BodyFatRank"
                                    },
                                    {
                                        "name": "Frequency"
                                    }
                                ]
                            },
                            "data": [
                                {
                                    "0": "1503960366",
                                    "1": "Normal",
                                    "2": "2"
                                },
                                {
                                    "0": "2873212765",
                                    "1": "Normal",
                                    "2": "2"
                                },
                                {
                                    "0": "6962181067",
                                    "1": "Normal",
                                    "2": "30"
                                },
                                {
                                    "0": "1927972279",
                                    "1": "Overweight",
                                    "2": "1"
                                },
                                {
                                    "0": "4319703577",
                                    "1": "Overweight",
                                    "2": "2"
                                },
                                {
                                    "0": "4558609924",
                                    "1": "Overweight",
                                    "2": "5"
                                },
                                {
                                    "0": "5577150313",
                                    "1": "Overweight",
                                    "2": "1"
                                },
                                {
                                    "0": "8877689391",
                                    "1": "Overweight",
                                    "2": "24"
                                }
                            ]
                        },
                        "text/html": "<table><tr><th>Id</th><th>BodyFatRank</th><th>Frequency</th></tr><tr><td>1503960366</td><td>Normal</td><td>2</td></tr><tr><td>2873212765</td><td>Normal</td><td>2</td></tr><tr><td>6962181067</td><td>Normal</td><td>30</td></tr><tr><td>1927972279</td><td>Overweight</td><td>1</td></tr><tr><td>4319703577</td><td>Overweight</td><td>2</td></tr><tr><td>4558609924</td><td>Overweight</td><td>5</td></tr><tr><td>5577150313</td><td>Overweight</td><td>1</td></tr><tr><td>8877689391</td><td>Overweight</td><td>24</td></tr></table>"
                    },
                    "metadata": {}
                }
            ],
            "execution_count": 4
        },
        {
            "cell_type": "markdown",
            "source": [
                "5\\\\8 users are overweight, but that data can be not clear, because of 33 users tested the app, not 8 only."
            ],
            "metadata": {
                "language": "sql",
                "azdata_cell_guid": "e242c9ac-6500-46d7-8812-5c45e43606fe"
            },
            "attachments": {}
        },
        {
            "cell_type": "markdown",
            "source": [
                "## SleepDay stats\n",
                "\n",
                "### Each user's sleep averages:"
            ],
            "metadata": {
                "azdata_cell_guid": "fb78fbef-4f09-4566-bc93-99be538eaf13"
            },
            "attachments": {}
        },
        {
            "cell_type": "code",
            "source": [
                "-- average sleep time, average time in bed, average time before sleep by each user\r\n",
                "SELECT \r\n",
                "    Id,\r\n",
                "    AVG(TotalMinutesAsleep) AS AverageSleepTime,\r\n",
                "    AVG(TotalTimeInBed) AS AverageTimeInBed,\r\n",
                "    AVG(TimeBeforeSleep) AS AverageTimeBeforeSleep\r\n",
                "FROM sleepDay\r\n",
                "GROUP BY Id\r\n",
                "ORDER BY AverageSleepTime;"
            ],
            "metadata": {
                "azdata_cell_guid": "862407ac-cbb3-48c9-b7ba-e3503f5651d3",
                "language": "sql"
            },
            "outputs": [
                {
                    "output_type": "display_data",
                    "data": {
                        "text/html": "(24 rows affected)"
                    },
                    "metadata": {}
                },
                {
                    "output_type": "display_data",
                    "data": {
                        "text/html": "Total execution time: 00:00:00.119"
                    },
                    "metadata": {}
                },
                {
                    "output_type": "execute_result",
                    "execution_count": 7,
                    "data": {
                        "application/vnd.dataresource+json": {
                            "schema": {
                                "fields": [
                                    {
                                        "name": "Id"
                                    },
                                    {
                                        "name": "AverageSleepTime"
                                    },
                                    {
                                        "name": "AverageTimeInBed"
                                    },
                                    {
                                        "name": "AverageTimeBeforeSleep"
                                    }
                                ]
                            },
                            "data": [
                                {
                                    "0": "2320127002",
                                    "1": "61",
                                    "2": "69",
                                    "3": "8"
                                },
                                {
                                    "0": "7007744171",
                                    "1": "68",
                                    "2": "71",
                                    "3": "3"
                                },
                                {
                                    "0": "4558609924",
                                    "1": "127",
                                    "2": "140",
                                    "3": "12"
                                },
                                {
                                    "0": "3977333714",
                                    "1": "293",
                                    "2": "461",
                                    "3": "167"
                                },
                                {
                                    "0": "1644430081",
                                    "1": "294",
                                    "2": "346",
                                    "3": "52"
                                },
                                {
                                    "0": "8053475328",
                                    "1": "297",
                                    "2": "301",
                                    "3": "4"
                                },
                                {
                                    "0": "4020332650",
                                    "1": "349",
                                    "2": "379",
                                    "3": "30"
                                },
                                {
                                    "0": "6775888955",
                                    "1": "349",
                                    "2": "369",
                                    "3": "19"
                                },
                                {
                                    "0": "1503960366",
                                    "1": "360",
                                    "2": "383",
                                    "3": "22"
                                },
                                {
                                    "0": "4445114986",
                                    "1": "385",
                                    "2": "416",
                                    "3": "31"
                                },
                                {
                                    "0": "4388161847",
                                    "1": "400",
                                    "2": "423",
                                    "3": "23"
                                },
                                {
                                    "0": "4702921684",
                                    "1": "417",
                                    "2": "438",
                                    "3": "20"
                                },
                                {
                                    "0": "1927972279",
                                    "1": "417",
                                    "2": "437",
                                    "3": "20"
                                },
                                {
                                    "0": "5577150313",
                                    "1": "432",
                                    "2": "460",
                                    "3": "28"
                                },
                                {
                                    "0": "8792009665",
                                    "1": "435",
                                    "2": "453",
                                    "3": "18"
                                },
                                {
                                    "0": "8378563200",
                                    "1": "445",
                                    "2": "485",
                                    "3": "40"
                                },
                                {
                                    "0": "2347167796",
                                    "1": "446",
                                    "2": "491",
                                    "3": "44"
                                },
                                {
                                    "0": "6962181067",
                                    "1": "448",
                                    "2": "466",
                                    "3": "18"
                                },
                                {
                                    "0": "7086361926",
                                    "1": "453",
                                    "2": "466",
                                    "3": "13"
                                },
                                {
                                    "0": "5553957443",
                                    "1": "463",
                                    "2": "505",
                                    "3": "42"
                                },
                                {
                                    "0": "4319703577",
                                    "1": "476",
                                    "2": "501",
                                    "3": "25"
                                },
                                {
                                    "0": "6117666160",
                                    "1": "478",
                                    "2": "510",
                                    "3": "31"
                                },
                                {
                                    "0": "2026352035",
                                    "1": "506",
                                    "2": "537",
                                    "3": "31"
                                },
                                {
                                    "0": "1844505072",
                                    "1": "652",
                                    "2": "961",
                                    "3": "309"
                                }
                            ]
                        },
                        "text/html": "<table><tr><th>Id</th><th>AverageSleepTime</th><th>AverageTimeInBed</th><th>AverageTimeBeforeSleep</th></tr><tr><td>2320127002</td><td>61</td><td>69</td><td>8</td></tr><tr><td>7007744171</td><td>68</td><td>71</td><td>3</td></tr><tr><td>4558609924</td><td>127</td><td>140</td><td>12</td></tr><tr><td>3977333714</td><td>293</td><td>461</td><td>167</td></tr><tr><td>1644430081</td><td>294</td><td>346</td><td>52</td></tr><tr><td>8053475328</td><td>297</td><td>301</td><td>4</td></tr><tr><td>4020332650</td><td>349</td><td>379</td><td>30</td></tr><tr><td>6775888955</td><td>349</td><td>369</td><td>19</td></tr><tr><td>1503960366</td><td>360</td><td>383</td><td>22</td></tr><tr><td>4445114986</td><td>385</td><td>416</td><td>31</td></tr><tr><td>4388161847</td><td>400</td><td>423</td><td>23</td></tr><tr><td>4702921684</td><td>417</td><td>438</td><td>20</td></tr><tr><td>1927972279</td><td>417</td><td>437</td><td>20</td></tr><tr><td>5577150313</td><td>432</td><td>460</td><td>28</td></tr><tr><td>8792009665</td><td>435</td><td>453</td><td>18</td></tr><tr><td>8378563200</td><td>445</td><td>485</td><td>40</td></tr><tr><td>2347167796</td><td>446</td><td>491</td><td>44</td></tr><tr><td>6962181067</td><td>448</td><td>466</td><td>18</td></tr><tr><td>7086361926</td><td>453</td><td>466</td><td>13</td></tr><tr><td>5553957443</td><td>463</td><td>505</td><td>42</td></tr><tr><td>4319703577</td><td>476</td><td>501</td><td>25</td></tr><tr><td>6117666160</td><td>478</td><td>510</td><td>31</td></tr><tr><td>2026352035</td><td>506</td><td>537</td><td>31</td></tr><tr><td>1844505072</td><td>652</td><td>961</td><td>309</td></tr></table>"
                    },
                    "metadata": {}
                }
            ],
            "execution_count": 7
        },
        {
            "cell_type": "markdown",
            "source": [
                "### Sleep quality stats:"
            ],
            "metadata": {
                "azdata_cell_guid": "d67c63cb-3af1-490f-bf33-1dd028f99ab2"
            },
            "attachments": {}
        },
        {
            "cell_type": "code",
            "source": [
                "-- total sleep quality stats\r\n",
                "SELECT \r\n",
                "    SleepRate,\r\n",
                "    COUNT (*) AS Frequency\r\n",
                "FROM sleepDay\r\n",
                "GROUP BY SleepRate;"
            ],
            "metadata": {
                "azdata_cell_guid": "96e0635d-f274-4eb5-a89b-df3f1ac91731",
                "language": "sql"
            },
            "outputs": [
                {
                    "output_type": "display_data",
                    "data": {
                        "text/html": "(3 rows affected)"
                    },
                    "metadata": {}
                },
                {
                    "output_type": "display_data",
                    "data": {
                        "text/html": "Total execution time: 00:00:00.351"
                    },
                    "metadata": {}
                },
                {
                    "output_type": "execute_result",
                    "execution_count": 21,
                    "data": {
                        "application/vnd.dataresource+json": {
                            "schema": {
                                "fields": [
                                    {
                                        "name": "SleepRate"
                                    },
                                    {
                                        "name": "Frequency"
                                    }
                                ]
                            },
                            "data": [
                                {
                                    "0": "Lack of sleep",
                                    "1": "181"
                                },
                                {
                                    "0": "Normal sleep",
                                    "1": "190"
                                },
                                {
                                    "0": "Oversleeping",
                                    "1": "39"
                                }
                            ]
                        },
                        "text/html": "<table><tr><th>SleepRate</th><th>Frequency</th></tr><tr><td>Lack of sleep</td><td>181</td></tr><tr><td>Normal sleep</td><td>190</td></tr><tr><td>Oversleeping</td><td>39</td></tr></table>"
                    },
                    "metadata": {}
                }
            ],
            "execution_count": 21
        },
        {
            "cell_type": "markdown",
            "source": [
                "There are 190 records of normal sleep, 181 - of the lack of sleep, and 39 - of oversleeping."
            ],
            "metadata": {
                "language": "sql",
                "azdata_cell_guid": "fad5eafd-95b2-4b9e-98a7-1b008e31eb2b"
            },
            "attachments": {}
        },
        {
            "cell_type": "code",
            "source": [
                "-- sleep quality stats by each user\r\n",
                "SELECT TOP 20\r\n",
                "    Id,\r\n",
                "    SleepRate,\r\n",
                "    COUNT(*) AS Frequency\r\n",
                "FROM sleepDay\r\n",
                "GROUP BY Id, SleepRate\r\n",
                "ORDER BY Id;"
            ],
            "metadata": {
                "language": "sql",
                "azdata_cell_guid": "26441f6c-385f-420b-8cec-3be25837c899"
            },
            "outputs": [
                {
                    "output_type": "display_data",
                    "data": {
                        "text/html": "(20 rows affected)"
                    },
                    "metadata": {}
                },
                {
                    "output_type": "display_data",
                    "data": {
                        "text/html": "Total execution time: 00:00:00.216"
                    },
                    "metadata": {}
                },
                {
                    "output_type": "execute_result",
                    "metadata": {},
                    "execution_count": 3,
                    "data": {
                        "application/vnd.dataresource+json": {
                            "schema": {
                                "fields": [
                                    {
                                        "name": "Id"
                                    },
                                    {
                                        "name": "SleepRate"
                                    },
                                    {
                                        "name": "Frequency"
                                    }
                                ]
                            },
                            "data": [
                                {
                                    "0": "1503960366",
                                    "1": "Lack of sleep",
                                    "2": "22"
                                },
                                {
                                    "0": "1503960366",
                                    "1": "Normal sleep",
                                    "2": "1"
                                },
                                {
                                    "0": "1503960366",
                                    "1": "Oversleeping",
                                    "2": "2"
                                },
                                {
                                    "0": "1644430081",
                                    "1": "Lack of sleep",
                                    "2": "3"
                                },
                                {
                                    "0": "1644430081",
                                    "1": "Oversleeping",
                                    "2": "1"
                                },
                                {
                                    "0": "1844505072",
                                    "1": "Oversleeping",
                                    "2": "3"
                                },
                                {
                                    "0": "1927972279",
                                    "1": "Lack of sleep",
                                    "2": "3"
                                },
                                {
                                    "0": "1927972279",
                                    "1": "Normal sleep",
                                    "2": "1"
                                },
                                {
                                    "0": "1927972279",
                                    "1": "Oversleeping",
                                    "2": "1"
                                },
                                {
                                    "0": "2026352035",
                                    "1": "Lack of sleep",
                                    "2": "1"
                                },
                                {
                                    "0": "2026352035",
                                    "1": "Normal sleep",
                                    "2": "23"
                                },
                                {
                                    "0": "2026352035",
                                    "1": "Oversleeping",
                                    "2": "4"
                                },
                                {
                                    "0": "2320127002",
                                    "1": "Lack of sleep",
                                    "2": "1"
                                },
                                {
                                    "0": "2347167796",
                                    "1": "Lack of sleep",
                                    "2": "4"
                                },
                                {
                                    "0": "2347167796",
                                    "1": "Normal sleep",
                                    "2": "10"
                                },
                                {
                                    "0": "2347167796",
                                    "1": "Oversleeping",
                                    "2": "1"
                                },
                                {
                                    "0": "3977333714",
                                    "1": "Lack of sleep",
                                    "2": "27"
                                },
                                {
                                    "0": "3977333714",
                                    "1": "Normal sleep",
                                    "2": "1"
                                },
                                {
                                    "0": "4020332650",
                                    "1": "Lack of sleep",
                                    "2": "5"
                                },
                                {
                                    "0": "4020332650",
                                    "1": "Normal sleep",
                                    "2": "3"
                                }
                            ]
                        },
                        "text/html": [
                            "<table>",
                            "<tr><th>Id</th><th>SleepRate</th><th>Frequency</th></tr>",
                            "<tr><td>1503960366</td><td>Lack of sleep</td><td>22</td></tr>",
                            "<tr><td>1503960366</td><td>Normal sleep</td><td>1</td></tr>",
                            "<tr><td>1503960366</td><td>Oversleeping</td><td>2</td></tr>",
                            "<tr><td>1644430081</td><td>Lack of sleep</td><td>3</td></tr>",
                            "<tr><td>1644430081</td><td>Oversleeping</td><td>1</td></tr>",
                            "<tr><td>1844505072</td><td>Oversleeping</td><td>3</td></tr>",
                            "<tr><td>1927972279</td><td>Lack of sleep</td><td>3</td></tr>",
                            "<tr><td>1927972279</td><td>Normal sleep</td><td>1</td></tr>",
                            "<tr><td>1927972279</td><td>Oversleeping</td><td>1</td></tr>",
                            "<tr><td>2026352035</td><td>Lack of sleep</td><td>1</td></tr>",
                            "<tr><td>2026352035</td><td>Normal sleep</td><td>23</td></tr>",
                            "<tr><td>2026352035</td><td>Oversleeping</td><td>4</td></tr>",
                            "<tr><td>2320127002</td><td>Lack of sleep</td><td>1</td></tr>",
                            "<tr><td>2347167796</td><td>Lack of sleep</td><td>4</td></tr>",
                            "<tr><td>2347167796</td><td>Normal sleep</td><td>10</td></tr>",
                            "<tr><td>2347167796</td><td>Oversleeping</td><td>1</td></tr>",
                            "<tr><td>3977333714</td><td>Lack of sleep</td><td>27</td></tr>",
                            "<tr><td>3977333714</td><td>Normal sleep</td><td>1</td></tr>",
                            "<tr><td>4020332650</td><td>Lack of sleep</td><td>5</td></tr>",
                            "<tr><td>4020332650</td><td>Normal sleep</td><td>3</td></tr>",
                            "</table>"
                        ]
                    }
                }
            ],
            "execution_count": 3
        },
        {
            "cell_type": "markdown",
            "source": [
                "## HeartrateSeconds stats\n",
                "\n",
                "### Average heartrates by each user:"
            ],
            "metadata": {
                "language": "sql",
                "azdata_cell_guid": "e62b35eb-e9ff-4cc2-9844-b20009f36222"
            },
            "attachments": {}
        },
        {
            "cell_type": "code",
            "source": [
                "SELECT \r\n",
                "    Id, CAST(AVG(Heartrate) AS INTEGER) AS AverageHeartrate\r\n",
                "FROM heartrateMinutes\r\n",
                "GROUP BY Id\r\n",
                "ORDER BY AverageHeartrate;"
            ],
            "metadata": {
                "language": "sql",
                "azdata_cell_guid": "d9e31094-b16a-4913-9d5b-620b5413aa1d"
            },
            "outputs": [
                {
                    "output_type": "display_data",
                    "data": {
                        "text/html": "(14 rows affected)"
                    },
                    "metadata": {}
                },
                {
                    "output_type": "display_data",
                    "data": {
                        "text/html": "Total execution time: 00:00:00.219"
                    },
                    "metadata": {}
                },
                {
                    "output_type": "execute_result",
                    "execution_count": 9,
                    "data": {
                        "application/vnd.dataresource+json": {
                            "schema": {
                                "fields": [
                                    {
                                        "name": "Id"
                                    },
                                    {
                                        "name": "AverageHeartrate"
                                    }
                                ]
                            },
                            "data": [
                                {
                                    "0": "4388161847",
                                    "1": "63"
                                },
                                {
                                    "0": "5553957443",
                                    "1": "64"
                                },
                                {
                                    "0": "5577150313",
                                    "1": "65"
                                },
                                {
                                    "0": "8792009665",
                                    "1": "70"
                                },
                                {
                                    "0": "2347167796",
                                    "1": "73"
                                },
                                {
                                    "0": "6962181067",
                                    "1": "73"
                                },
                                {
                                    "0": "8877689391",
                                    "1": "74"
                                },
                                {
                                    "0": "2022484408",
                                    "1": "78"
                                },
                                {
                                    "0": "4558609924",
                                    "1": "78"
                                },
                                {
                                    "0": "4020332650",
                                    "1": "81"
                                },
                                {
                                    "0": "6117666160",
                                    "1": "81"
                                },
                                {
                                    "0": "7007744171",
                                    "1": "89"
                                },
                                {
                                    "0": "6775888955",
                                    "1": "89"
                                },
                                {
                                    "0": "2026352035",
                                    "1": "92"
                                }
                            ]
                        },
                        "text/html": "<table><tr><th>Id</th><th>AverageHeartrate</th></tr><tr><td>4388161847</td><td>63</td></tr><tr><td>5553957443</td><td>64</td></tr><tr><td>5577150313</td><td>65</td></tr><tr><td>8792009665</td><td>70</td></tr><tr><td>2347167796</td><td>73</td></tr><tr><td>6962181067</td><td>73</td></tr><tr><td>8877689391</td><td>74</td></tr><tr><td>2022484408</td><td>78</td></tr><tr><td>4558609924</td><td>78</td></tr><tr><td>4020332650</td><td>81</td></tr><tr><td>6117666160</td><td>81</td></tr><tr><td>7007744171</td><td>89</td></tr><tr><td>6775888955</td><td>89</td></tr><tr><td>2026352035</td><td>92</td></tr></table>"
                    },
                    "metadata": {}
                }
            ],
            "execution_count": 9
        },
        {
            "cell_type": "markdown",
            "source": [
                "### Average daily heartrate stats by each user:"
            ],
            "metadata": {
                "azdata_cell_guid": "00064523-bb88-4582-b1cc-0f2aed8b5c38"
            },
            "attachments": {}
        },
        {
            "cell_type": "code",
            "source": [
                "-- daily average heartrate statistics of each user\r\n",
                "SELECT TOP 20\r\n",
                "    Id, Date, CAST(AVG(Heartrate) AS INTEGER) AS AverageHeartrate\r\n",
                "FROM heartrateMinutes\r\n",
                "GROUP BY Id, Date\r\n",
                "ORDER BY Id, Date;"
            ],
            "metadata": {
                "azdata_cell_guid": "2d00eea2-2cbf-4bb3-9e97-4c6a12420c0e",
                "language": "sql"
            },
            "outputs": [
                {
                    "output_type": "display_data",
                    "data": {
                        "text/html": "(20 rows affected)"
                    },
                    "metadata": {}
                },
                {
                    "output_type": "display_data",
                    "data": {
                        "text/html": "Total execution time: 00:00:00.671"
                    },
                    "metadata": {}
                },
                {
                    "output_type": "execute_result",
                    "metadata": {},
                    "execution_count": 4,
                    "data": {
                        "application/vnd.dataresource+json": {
                            "schema": {
                                "fields": [
                                    {
                                        "name": "Id"
                                    },
                                    {
                                        "name": "Date"
                                    },
                                    {
                                        "name": "AverageHeartrate"
                                    }
                                ]
                            },
                            "data": [
                                {
                                    "0": "2022484408",
                                    "1": "2016-04-12",
                                    "2": "73"
                                },
                                {
                                    "0": "2022484408",
                                    "1": "2016-04-13",
                                    "2": "78"
                                },
                                {
                                    "0": "2022484408",
                                    "1": "2016-04-14",
                                    "2": "70"
                                },
                                {
                                    "0": "2022484408",
                                    "1": "2016-04-15",
                                    "2": "78"
                                },
                                {
                                    "0": "2022484408",
                                    "1": "2016-04-16",
                                    "2": "74"
                                },
                                {
                                    "0": "2022484408",
                                    "1": "2016-04-17",
                                    "2": "82"
                                },
                                {
                                    "0": "2022484408",
                                    "1": "2016-04-18",
                                    "2": "80"
                                },
                                {
                                    "0": "2022484408",
                                    "1": "2016-04-19",
                                    "2": "80"
                                },
                                {
                                    "0": "2022484408",
                                    "1": "2016-04-20",
                                    "2": "81"
                                },
                                {
                                    "0": "2022484408",
                                    "1": "2016-04-21",
                                    "2": "85"
                                },
                                {
                                    "0": "2022484408",
                                    "1": "2016-04-22",
                                    "2": "77"
                                },
                                {
                                    "0": "2022484408",
                                    "1": "2016-04-23",
                                    "2": "70"
                                },
                                {
                                    "0": "2022484408",
                                    "1": "2016-04-24",
                                    "2": "80"
                                },
                                {
                                    "0": "2022484408",
                                    "1": "2016-04-25",
                                    "2": "79"
                                },
                                {
                                    "0": "2022484408",
                                    "1": "2016-04-26",
                                    "2": "81"
                                },
                                {
                                    "0": "2022484408",
                                    "1": "2016-04-27",
                                    "2": "79"
                                },
                                {
                                    "0": "2022484408",
                                    "1": "2016-04-28",
                                    "2": "69"
                                },
                                {
                                    "0": "2022484408",
                                    "1": "2016-04-29",
                                    "2": "81"
                                },
                                {
                                    "0": "2022484408",
                                    "1": "2016-04-30",
                                    "2": "75"
                                },
                                {
                                    "0": "2022484408",
                                    "1": "2016-05-01",
                                    "2": "71"
                                }
                            ]
                        },
                        "text/html": [
                            "<table>",
                            "<tr><th>Id</th><th>Date</th><th>AverageHeartrate</th></tr>",
                            "<tr><td>2022484408</td><td>2016-04-12</td><td>73</td></tr>",
                            "<tr><td>2022484408</td><td>2016-04-13</td><td>78</td></tr>",
                            "<tr><td>2022484408</td><td>2016-04-14</td><td>70</td></tr>",
                            "<tr><td>2022484408</td><td>2016-04-15</td><td>78</td></tr>",
                            "<tr><td>2022484408</td><td>2016-04-16</td><td>74</td></tr>",
                            "<tr><td>2022484408</td><td>2016-04-17</td><td>82</td></tr>",
                            "<tr><td>2022484408</td><td>2016-04-18</td><td>80</td></tr>",
                            "<tr><td>2022484408</td><td>2016-04-19</td><td>80</td></tr>",
                            "<tr><td>2022484408</td><td>2016-04-20</td><td>81</td></tr>",
                            "<tr><td>2022484408</td><td>2016-04-21</td><td>85</td></tr>",
                            "<tr><td>2022484408</td><td>2016-04-22</td><td>77</td></tr>",
                            "<tr><td>2022484408</td><td>2016-04-23</td><td>70</td></tr>",
                            "<tr><td>2022484408</td><td>2016-04-24</td><td>80</td></tr>",
                            "<tr><td>2022484408</td><td>2016-04-25</td><td>79</td></tr>",
                            "<tr><td>2022484408</td><td>2016-04-26</td><td>81</td></tr>",
                            "<tr><td>2022484408</td><td>2016-04-27</td><td>79</td></tr>",
                            "<tr><td>2022484408</td><td>2016-04-28</td><td>69</td></tr>",
                            "<tr><td>2022484408</td><td>2016-04-29</td><td>81</td></tr>",
                            "<tr><td>2022484408</td><td>2016-04-30</td><td>75</td></tr>",
                            "<tr><td>2022484408</td><td>2016-05-01</td><td>71</td></tr>",
                            "</table>"
                        ]
                    }
                }
            ],
            "execution_count": 4
        },
        {
            "cell_type": "markdown",
            "source": [
                "### HeartrateLevel by each user:"
            ],
            "metadata": {
                "language": "sql",
                "azdata_cell_guid": "307d0054-377c-4e4a-9976-4abb8bbc9a45"
            },
            "attachments": {}
        },
        {
            "cell_type": "code",
            "source": [
                "-- daily heartrate level stats by each user\r\n",
                "SELECT TOP 20\r\n",
                "    Id, \r\n",
                "    Date,\r\n",
                "    HeartrateLevel,\r\n",
                "    COUNT(*) AS Frequency\r\n",
                "FROM heartrateMinutes\r\n",
                "GROUP BY Id, Date, HeartrateLevel\r\n",
                "ORDER BY Id, Date;"
            ],
            "metadata": {
                "language": "sql",
                "azdata_cell_guid": "7842ea3f-def6-4112-a070-4bfbdf10446e"
            },
            "outputs": [
                {
                    "output_type": "display_data",
                    "data": {
                        "text/html": "(20 rows affected)"
                    },
                    "metadata": {}
                },
                {
                    "output_type": "display_data",
                    "data": {
                        "text/html": "Total execution time: 00:00:00.625"
                    },
                    "metadata": {}
                },
                {
                    "output_type": "execute_result",
                    "metadata": {},
                    "execution_count": 5,
                    "data": {
                        "application/vnd.dataresource+json": {
                            "schema": {
                                "fields": [
                                    {
                                        "name": "Id"
                                    },
                                    {
                                        "name": "Date"
                                    },
                                    {
                                        "name": "HeartrateLevel"
                                    },
                                    {
                                        "name": "Frequency"
                                    }
                                ]
                            },
                            "data": [
                                {
                                    "0": "2022484408",
                                    "1": "2016-04-12",
                                    "2": "Normal",
                                    "3": "562"
                                },
                                {
                                    "0": "2022484408",
                                    "1": "2016-04-12",
                                    "2": "High",
                                    "3": "62"
                                },
                                {
                                    "0": "2022484408",
                                    "1": "2016-04-12",
                                    "2": "Low",
                                    "3": "94"
                                },
                                {
                                    "0": "2022484408",
                                    "1": "2016-04-13",
                                    "2": "Normal",
                                    "3": "619"
                                },
                                {
                                    "0": "2022484408",
                                    "1": "2016-04-13",
                                    "2": "High",
                                    "3": "82"
                                },
                                {
                                    "0": "2022484408",
                                    "1": "2016-04-13",
                                    "2": "Low",
                                    "3": "55"
                                },
                                {
                                    "0": "2022484408",
                                    "1": "2016-04-14",
                                    "2": "Normal",
                                    "3": "596"
                                },
                                {
                                    "0": "2022484408",
                                    "1": "2016-04-14",
                                    "2": "Low",
                                    "3": "156"
                                },
                                {
                                    "0": "2022484408",
                                    "1": "2016-04-14",
                                    "2": "High",
                                    "3": "18"
                                },
                                {
                                    "0": "2022484408",
                                    "1": "2016-04-15",
                                    "2": "Normal",
                                    "3": "630"
                                },
                                {
                                    "0": "2022484408",
                                    "1": "2016-04-15",
                                    "2": "High",
                                    "3": "56"
                                },
                                {
                                    "0": "2022484408",
                                    "1": "2016-04-15",
                                    "2": "Low",
                                    "3": "24"
                                },
                                {
                                    "0": "2022484408",
                                    "1": "2016-04-16",
                                    "2": "High",
                                    "3": "47"
                                },
                                {
                                    "0": "2022484408",
                                    "1": "2016-04-16",
                                    "2": "Normal",
                                    "3": "321"
                                },
                                {
                                    "0": "2022484408",
                                    "1": "2016-04-16",
                                    "2": "Low",
                                    "3": "61"
                                },
                                {
                                    "0": "2022484408",
                                    "1": "2016-04-17",
                                    "2": "Low",
                                    "3": "25"
                                },
                                {
                                    "0": "2022484408",
                                    "1": "2016-04-17",
                                    "2": "Normal",
                                    "3": "603"
                                },
                                {
                                    "0": "2022484408",
                                    "1": "2016-04-17",
                                    "2": "High",
                                    "3": "75"
                                },
                                {
                                    "0": "2022484408",
                                    "1": "2016-04-18",
                                    "2": "High",
                                    "3": "81"
                                },
                                {
                                    "0": "2022484408",
                                    "1": "2016-04-18",
                                    "2": "Normal",
                                    "3": "674"
                                }
                            ]
                        },
                        "text/html": [
                            "<table>",
                            "<tr><th>Id</th><th>Date</th><th>HeartrateLevel</th><th>Frequency</th></tr>",
                            "<tr><td>2022484408</td><td>2016-04-12</td><td>Normal</td><td>562</td></tr>",
                            "<tr><td>2022484408</td><td>2016-04-12</td><td>High</td><td>62</td></tr>",
                            "<tr><td>2022484408</td><td>2016-04-12</td><td>Low</td><td>94</td></tr>",
                            "<tr><td>2022484408</td><td>2016-04-13</td><td>Normal</td><td>619</td></tr>",
                            "<tr><td>2022484408</td><td>2016-04-13</td><td>High</td><td>82</td></tr>",
                            "<tr><td>2022484408</td><td>2016-04-13</td><td>Low</td><td>55</td></tr>",
                            "<tr><td>2022484408</td><td>2016-04-14</td><td>Normal</td><td>596</td></tr>",
                            "<tr><td>2022484408</td><td>2016-04-14</td><td>Low</td><td>156</td></tr>",
                            "<tr><td>2022484408</td><td>2016-04-14</td><td>High</td><td>18</td></tr>",
                            "<tr><td>2022484408</td><td>2016-04-15</td><td>Normal</td><td>630</td></tr>",
                            "<tr><td>2022484408</td><td>2016-04-15</td><td>High</td><td>56</td></tr>",
                            "<tr><td>2022484408</td><td>2016-04-15</td><td>Low</td><td>24</td></tr>",
                            "<tr><td>2022484408</td><td>2016-04-16</td><td>High</td><td>47</td></tr>",
                            "<tr><td>2022484408</td><td>2016-04-16</td><td>Normal</td><td>321</td></tr>",
                            "<tr><td>2022484408</td><td>2016-04-16</td><td>Low</td><td>61</td></tr>",
                            "<tr><td>2022484408</td><td>2016-04-17</td><td>Low</td><td>25</td></tr>",
                            "<tr><td>2022484408</td><td>2016-04-17</td><td>Normal</td><td>603</td></tr>",
                            "<tr><td>2022484408</td><td>2016-04-17</td><td>High</td><td>75</td></tr>",
                            "<tr><td>2022484408</td><td>2016-04-18</td><td>High</td><td>81</td></tr>",
                            "<tr><td>2022484408</td><td>2016-04-18</td><td>Normal</td><td>674</td></tr>",
                            "</table>"
                        ]
                    }
                }
            ],
            "execution_count": 5
        },
        {
            "cell_type": "code",
            "source": [
                "-- total  heartrate stats by each user\r\n",
                "SELECT TOP 20\r\n",
                "    Id, \r\n",
                "    HeartrateLevel,\r\n",
                "    COUNT(*) AS Frequency\r\n",
                "FROM heartrateMinutes\r\n",
                "GROUP BY Id, HeartrateLevel\r\n",
                "ORDER BY Id;"
            ],
            "metadata": {
                "language": "sql",
                "azdata_cell_guid": "27093de8-3b93-4db2-8f50-253b5a668f07"
            },
            "outputs": [
                {
                    "output_type": "display_data",
                    "data": {
                        "text/html": "(20 rows affected)"
                    },
                    "metadata": {}
                },
                {
                    "output_type": "display_data",
                    "data": {
                        "text/html": "Total execution time: 00:00:00.158"
                    },
                    "metadata": {}
                },
                {
                    "output_type": "execute_result",
                    "metadata": {},
                    "execution_count": 7,
                    "data": {
                        "application/vnd.dataresource+json": {
                            "schema": {
                                "fields": [
                                    {
                                        "name": "Id"
                                    },
                                    {
                                        "name": "HeartrateLevel"
                                    },
                                    {
                                        "name": "Frequency"
                                    }
                                ]
                            },
                            "data": [
                                {
                                    "0": "2022484408",
                                    "1": "High",
                                    "2": "2081"
                                },
                                {
                                    "0": "2022484408",
                                    "1": "Normal",
                                    "2": "17505"
                                },
                                {
                                    "0": "2022484408",
                                    "1": "Low",
                                    "2": "1496"
                                },
                                {
                                    "0": "2026352035",
                                    "1": "Normal",
                                    "2": "306"
                                },
                                {
                                    "0": "2026352035",
                                    "1": "High",
                                    "2": "118"
                                },
                                {
                                    "0": "2347167796",
                                    "1": "Low",
                                    "2": "1112"
                                },
                                {
                                    "0": "2347167796",
                                    "1": "High",
                                    "2": "1117"
                                },
                                {
                                    "0": "2347167796",
                                    "1": "Normal",
                                    "2": "20276"
                                },
                                {
                                    "0": "4020332650",
                                    "1": "Low",
                                    "2": "936"
                                },
                                {
                                    "0": "4020332650",
                                    "1": "Normal",
                                    "2": "9238"
                                },
                                {
                                    "0": "4020332650",
                                    "1": "High",
                                    "2": "1039"
                                },
                                {
                                    "0": "4388161847",
                                    "1": "Normal",
                                    "2": "19981"
                                },
                                {
                                    "0": "4388161847",
                                    "1": "Low",
                                    "2": "17407"
                                },
                                {
                                    "0": "4388161847",
                                    "1": "High",
                                    "2": "721"
                                },
                                {
                                    "0": "4558609924",
                                    "1": "Low",
                                    "2": "999"
                                },
                                {
                                    "0": "4558609924",
                                    "1": "High",
                                    "2": "1101"
                                },
                                {
                                    "0": "4558609924",
                                    "1": "Normal",
                                    "2": "24443"
                                },
                                {
                                    "0": "5553957443",
                                    "1": "Normal",
                                    "2": "27486"
                                },
                                {
                                    "0": "5553957443",
                                    "1": "High",
                                    "2": "605"
                                },
                                {
                                    "0": "5553957443",
                                    "1": "Low",
                                    "2": "12009"
                                }
                            ]
                        },
                        "text/html": [
                            "<table>",
                            "<tr><th>Id</th><th>HeartrateLevel</th><th>Frequency</th></tr>",
                            "<tr><td>2022484408</td><td>High</td><td>2081</td></tr>",
                            "<tr><td>2022484408</td><td>Normal</td><td>17505</td></tr>",
                            "<tr><td>2022484408</td><td>Low</td><td>1496</td></tr>",
                            "<tr><td>2026352035</td><td>Normal</td><td>306</td></tr>",
                            "<tr><td>2026352035</td><td>High</td><td>118</td></tr>",
                            "<tr><td>2347167796</td><td>Low</td><td>1112</td></tr>",
                            "<tr><td>2347167796</td><td>High</td><td>1117</td></tr>",
                            "<tr><td>2347167796</td><td>Normal</td><td>20276</td></tr>",
                            "<tr><td>4020332650</td><td>Low</td><td>936</td></tr>",
                            "<tr><td>4020332650</td><td>Normal</td><td>9238</td></tr>",
                            "<tr><td>4020332650</td><td>High</td><td>1039</td></tr>",
                            "<tr><td>4388161847</td><td>Normal</td><td>19981</td></tr>",
                            "<tr><td>4388161847</td><td>Low</td><td>17407</td></tr>",
                            "<tr><td>4388161847</td><td>High</td><td>721</td></tr>",
                            "<tr><td>4558609924</td><td>Low</td><td>999</td></tr>",
                            "<tr><td>4558609924</td><td>High</td><td>1101</td></tr>",
                            "<tr><td>4558609924</td><td>Normal</td><td>24443</td></tr>",
                            "<tr><td>5553957443</td><td>Normal</td><td>27486</td></tr>",
                            "<tr><td>5553957443</td><td>High</td><td>605</td></tr>",
                            "<tr><td>5553957443</td><td>Low</td><td>12009</td></tr>",
                            "</table>"
                        ]
                    }
                }
            ],
            "execution_count": 7
        },
        {
            "cell_type": "markdown",
            "source": [
                "### Heartrate level stats during a day"
            ],
            "metadata": {
                "language": "sql",
                "azdata_cell_guid": "5806989d-0909-4905-ac29-a0efb6df3680"
            },
            "attachments": {}
        },
        {
            "cell_type": "code",
            "source": [
                "-- this table shows how the heartrate level changes during a day \r\n",
                "SELECT TOP 20\r\n",
                "    Hour,\r\n",
                "    HeartrateLevel,\r\n",
                "    COUNT(*) AS Frequency\r\n",
                "FROM heartrateMinutes\r\n",
                "GROUP BY Hour, HeartrateLevel\r\n",
                "ORDER BY Hour;"
            ],
            "metadata": {
                "language": "sql",
                "azdata_cell_guid": "64aa22a7-10ee-42a8-93ee-31a1648e7ebd"
            },
            "outputs": [
                {
                    "output_type": "display_data",
                    "data": {
                        "text/html": "(20 rows affected)"
                    },
                    "metadata": {}
                },
                {
                    "output_type": "display_data",
                    "data": {
                        "text/html": "Total execution time: 00:00:00.234"
                    },
                    "metadata": {}
                },
                {
                    "output_type": "execute_result",
                    "metadata": {},
                    "execution_count": 8,
                    "data": {
                        "application/vnd.dataresource+json": {
                            "schema": {
                                "fields": [
                                    {
                                        "name": "Hour"
                                    },
                                    {
                                        "name": "HeartrateLevel"
                                    },
                                    {
                                        "name": "Frequency"
                                    }
                                ]
                            },
                            "data": [
                                {
                                    "0": "0",
                                    "1": "Normal",
                                    "2": "6672"
                                },
                                {
                                    "0": "0",
                                    "1": "Low",
                                    "2": "3724"
                                },
                                {
                                    "0": "0",
                                    "1": "High",
                                    "2": "112"
                                },
                                {
                                    "0": "1",
                                    "1": "Low",
                                    "2": "3730"
                                },
                                {
                                    "0": "1",
                                    "1": "High",
                                    "2": "130"
                                },
                                {
                                    "0": "1",
                                    "1": "Normal",
                                    "2": "6325"
                                },
                                {
                                    "0": "2",
                                    "1": "Low",
                                    "2": "3862"
                                },
                                {
                                    "0": "2",
                                    "1": "Normal",
                                    "2": "5852"
                                },
                                {
                                    "0": "2",
                                    "1": "High",
                                    "2": "86"
                                },
                                {
                                    "0": "3",
                                    "1": "Low",
                                    "2": "4240"
                                },
                                {
                                    "0": "3",
                                    "1": "High",
                                    "2": "15"
                                },
                                {
                                    "0": "3",
                                    "1": "Normal",
                                    "2": "5551"
                                },
                                {
                                    "0": "4",
                                    "1": "Normal",
                                    "2": "5116"
                                },
                                {
                                    "0": "4",
                                    "1": "Low",
                                    "2": "4491"
                                },
                                {
                                    "0": "4",
                                    "1": "High",
                                    "2": "20"
                                },
                                {
                                    "0": "5",
                                    "1": "High",
                                    "2": "181"
                                },
                                {
                                    "0": "5",
                                    "1": "Normal",
                                    "2": "5527"
                                },
                                {
                                    "0": "5",
                                    "1": "Low",
                                    "2": "4204"
                                },
                                {
                                    "0": "6",
                                    "1": "Low",
                                    "2": "2411"
                                },
                                {
                                    "0": "6",
                                    "1": "High",
                                    "2": "838"
                                }
                            ]
                        },
                        "text/html": [
                            "<table>",
                            "<tr><th>Hour</th><th>HeartrateLevel</th><th>Frequency</th></tr>",
                            "<tr><td>0</td><td>Normal</td><td>6672</td></tr>",
                            "<tr><td>0</td><td>Low</td><td>3724</td></tr>",
                            "<tr><td>0</td><td>High</td><td>112</td></tr>",
                            "<tr><td>1</td><td>Low</td><td>3730</td></tr>",
                            "<tr><td>1</td><td>High</td><td>130</td></tr>",
                            "<tr><td>1</td><td>Normal</td><td>6325</td></tr>",
                            "<tr><td>2</td><td>Low</td><td>3862</td></tr>",
                            "<tr><td>2</td><td>Normal</td><td>5852</td></tr>",
                            "<tr><td>2</td><td>High</td><td>86</td></tr>",
                            "<tr><td>3</td><td>Low</td><td>4240</td></tr>",
                            "<tr><td>3</td><td>High</td><td>15</td></tr>",
                            "<tr><td>3</td><td>Normal</td><td>5551</td></tr>",
                            "<tr><td>4</td><td>Normal</td><td>5116</td></tr>",
                            "<tr><td>4</td><td>Low</td><td>4491</td></tr>",
                            "<tr><td>4</td><td>High</td><td>20</td></tr>",
                            "<tr><td>5</td><td>High</td><td>181</td></tr>",
                            "<tr><td>5</td><td>Normal</td><td>5527</td></tr>",
                            "<tr><td>5</td><td>Low</td><td>4204</td></tr>",
                            "<tr><td>6</td><td>Low</td><td>2411</td></tr>",
                            "<tr><td>6</td><td>High</td><td>838</td></tr>",
                            "</table>"
                        ]
                    }
                }
            ],
            "execution_count": 8
        },
        {
            "cell_type": "markdown",
            "source": [
                "## Sedentary and active time vs. Sleep Quality\n",
                "\n",
                "I used to find a relation between how much time do people spend sedentary and how much time they sleep then."
            ],
            "metadata": {
                "language": "sql",
                "azdata_cell_guid": "f983cec2-cf2f-40e4-a2cb-d4b2d88ff980"
            },
            "attachments": {}
        },
        {
            "cell_type": "code",
            "source": [
                "-- a relation between sedentary minutes and sleep time, and between total steps made and sleep time\r\n",
                "SELECT TOP 20\r\n",
                "    SedentaryMinutes, \r\n",
                "    TotalSteps,\r\n",
                "    sleepDay.TotalMinutesAsleep\r\n",
                "FROM dailyActivity\r\n",
                "INNER JOIN sleepDay\r\n",
                "ON (dailyActivity.Id = sleepDay.Id AND\r\n",
                "dailyActivity.Date = sleepDay.Date)\r\n",
                "ORDER BY SedentaryMinutes DESC;"
            ],
            "metadata": {
                "language": "sql",
                "azdata_cell_guid": "b89ef179-783b-488c-b9f2-2d6b509545a6"
            },
            "outputs": [
                {
                    "output_type": "display_data",
                    "data": {
                        "text/html": "(20 rows affected)"
                    },
                    "metadata": {}
                },
                {
                    "output_type": "display_data",
                    "data": {
                        "text/html": "Total execution time: 00:00:00.204"
                    },
                    "metadata": {}
                },
                {
                    "output_type": "execute_result",
                    "metadata": {},
                    "execution_count": 9,
                    "data": {
                        "application/vnd.dataresource+json": {
                            "schema": {
                                "fields": [
                                    {
                                        "name": "SedentaryMinutes"
                                    },
                                    {
                                        "name": "TotalSteps"
                                    },
                                    {
                                        "name": "TotalMinutesAsleep"
                                    }
                                ]
                            },
                            "data": [
                                {
                                    "0": "1265",
                                    "1": "3702",
                                    "2": "59"
                                },
                                {
                                    "0": "1222",
                                    "1": "1982",
                                    "2": "77"
                                },
                                {
                                    "0": "1219",
                                    "1": "2268",
                                    "2": "98"
                                },
                                {
                                    "0": "1193",
                                    "1": "3176",
                                    "2": "119"
                                },
                                {
                                    "0": "1167",
                                    "1": "1675",
                                    "2": "166"
                                },
                                {
                                    "0": "1155",
                                    "1": "4631",
                                    "2": "79"
                                },
                                {
                                    "0": "1153",
                                    "1": "7550",
                                    "2": "74"
                                },
                                {
                                    "0": "1142",
                                    "1": "5600",
                                    "2": "58"
                                },
                                {
                                    "0": "1129",
                                    "1": "5079",
                                    "2": "61"
                                },
                                {
                                    "0": "1121",
                                    "1": "3428",
                                    "2": "115"
                                },
                                {
                                    "0": "1106",
                                    "1": "4676",
                                    "2": "106"
                                },
                                {
                                    "0": "1096",
                                    "1": "7833",
                                    "2": "171"
                                },
                                {
                                    "0": "1076",
                                    "1": "19769",
                                    "2": "74"
                                },
                                {
                                    "0": "1062",
                                    "1": "9148",
                                    "2": "103"
                                },
                                {
                                    "0": "1058",
                                    "1": "3761",
                                    "2": "296"
                                },
                                {
                                    "0": "1053",
                                    "1": "838",
                                    "2": "437"
                                },
                                {
                                    "0": "1053",
                                    "1": "4053",
                                    "2": "235"
                                },
                                {
                                    "0": "1020",
                                    "1": "10218",
                                    "2": "62"
                                },
                                {
                                    "0": "1019",
                                    "1": "6543",
                                    "2": "123"
                                },
                                {
                                    "0": "1017",
                                    "1": "11009",
                                    "2": "99"
                                }
                            ]
                        },
                        "text/html": [
                            "<table>",
                            "<tr><th>SedentaryMinutes</th><th>TotalSteps</th><th>TotalMinutesAsleep</th></tr>",
                            "<tr><td>1265</td><td>3702</td><td>59</td></tr>",
                            "<tr><td>1222</td><td>1982</td><td>77</td></tr>",
                            "<tr><td>1219</td><td>2268</td><td>98</td></tr>",
                            "<tr><td>1193</td><td>3176</td><td>119</td></tr>",
                            "<tr><td>1167</td><td>1675</td><td>166</td></tr>",
                            "<tr><td>1155</td><td>4631</td><td>79</td></tr>",
                            "<tr><td>1153</td><td>7550</td><td>74</td></tr>",
                            "<tr><td>1142</td><td>5600</td><td>58</td></tr>",
                            "<tr><td>1129</td><td>5079</td><td>61</td></tr>",
                            "<tr><td>1121</td><td>3428</td><td>115</td></tr>",
                            "<tr><td>1106</td><td>4676</td><td>106</td></tr>",
                            "<tr><td>1096</td><td>7833</td><td>171</td></tr>",
                            "<tr><td>1076</td><td>19769</td><td>74</td></tr>",
                            "<tr><td>1062</td><td>9148</td><td>103</td></tr>",
                            "<tr><td>1058</td><td>3761</td><td>296</td></tr>",
                            "<tr><td>1053</td><td>838</td><td>437</td></tr>",
                            "<tr><td>1053</td><td>4053</td><td>235</td></tr>",
                            "<tr><td>1020</td><td>10218</td><td>62</td></tr>",
                            "<tr><td>1019</td><td>6543</td><td>123</td></tr>",
                            "<tr><td>1017</td><td>11009</td><td>99</td></tr>",
                            "</table>"
                        ]
                    }
                }
            ],
            "execution_count": 9
        },
        {
            "cell_type": "markdown",
            "source": [
                "## BMI vs. SedentaryMinutes & TotalSteps"
            ],
            "metadata": {
                "azdata_cell_guid": "a9171b01-85b9-47b2-aa4c-c0c87634f8c6"
            },
            "attachments": {}
        },
        {
            "cell_type": "code",
            "source": [
                "-- a relation between sedentary time, total steps made and body mass index\r\n",
                "SELECT TOP 20\r\n",
                "    SedentaryMinutes,\r\n",
                "    TotalSteps,\r\n",
                "    weightLogInfo.BodyMassIndex\r\n",
                "FROM dailyActivity\r\n",
                "INNER JOIN weightLogInfo ON (dailyActivity.Id = weightLogInfo.Id\r\n",
                "AND dailyActivity.Date = weightLogInfo.Date)\r\n",
                "ORDER BY BodyMassIndex;"
            ],
            "metadata": {
                "azdata_cell_guid": "55b48a66-d3e7-4113-9c9f-2105a823c7eb",
                "language": "sql"
            },
            "outputs": [
                {
                    "output_type": "display_data",
                    "data": {
                        "text/html": "(20 rows affected)"
                    },
                    "metadata": {}
                },
                {
                    "output_type": "display_data",
                    "data": {
                        "text/html": "Total execution time: 00:00:00.058"
                    },
                    "metadata": {}
                },
                {
                    "output_type": "execute_result",
                    "metadata": {},
                    "execution_count": 10,
                    "data": {
                        "application/vnd.dataresource+json": {
                            "schema": {
                                "fields": [
                                    {
                                        "name": "SedentaryMinutes"
                                    },
                                    {
                                        "name": "TotalSteps"
                                    },
                                    {
                                        "name": "BodyMassIndex"
                                    }
                                ]
                            },
                            "data": [
                                {
                                    "0": "1057",
                                    "1": "8859",
                                    "2": "21,4500007629395"
                                },
                                {
                                    "0": "720",
                                    "1": "7566",
                                    "2": "21,6900005340576"
                                },
                                {
                                    "0": "816",
                                    "1": "15103",
                                    "2": "22,6499996185303"
                                },
                                {
                                    "0": "798",
                                    "1": "14727",
                                    "2": "22,6499996185303"
                                },
                                {
                                    "0": "731",
                                    "1": "10081",
                                    "2": "23,8199996948242"
                                },
                                {
                                    "0": "654",
                                    "1": "12109",
                                    "2": "23,8199996948242"
                                },
                                {
                                    "0": "683",
                                    "1": "10147",
                                    "2": "23,8500003814697"
                                },
                                {
                                    "0": "689",
                                    "1": "11404",
                                    "2": "23,8899993896484"
                                },
                                {
                                    "0": "697",
                                    "1": "10320",
                                    "2": "23,8899993896484"
                                },
                                {
                                    "0": "621",
                                    "1": "12627",
                                    "2": "23,8899993896484"
                                },
                                {
                                    "0": "745",
                                    "1": "6815",
                                    "2": "23,8899993896484"
                                },
                                {
                                    "0": "709",
                                    "1": "4188",
                                    "2": "23,8899993896484"
                                },
                                {
                                    "0": "591",
                                    "1": "10524",
                                    "2": "23,9300003051758"
                                },
                                {
                                    "0": "659",
                                    "1": "10742",
                                    "2": "23,9599990844727"
                                },
                                {
                                    "0": "634",
                                    "1": "10145",
                                    "2": "23,9599990844727"
                                },
                                {
                                    "0": "708",
                                    "1": "11835",
                                    "2": "23,9599990844727"
                                },
                                {
                                    "0": "659",
                                    "1": "10725",
                                    "2": "23,9599990844727"
                                },
                                {
                                    "0": "645",
                                    "1": "10762",
                                    "2": "23,9599990844727"
                                },
                                {
                                    "0": "837",
                                    "1": "5563",
                                    "2": "24"
                                },
                                {
                                    "0": "484",
                                    "1": "20031",
                                    "2": "24"
                                }
                            ]
                        },
                        "text/html": [
                            "<table>",
                            "<tr><th>SedentaryMinutes</th><th>TotalSteps</th><th>BodyMassIndex</th></tr>",
                            "<tr><td>1057</td><td>8859</td><td>21,4500007629395</td></tr>",
                            "<tr><td>720</td><td>7566</td><td>21,6900005340576</td></tr>",
                            "<tr><td>816</td><td>15103</td><td>22,6499996185303</td></tr>",
                            "<tr><td>798</td><td>14727</td><td>22,6499996185303</td></tr>",
                            "<tr><td>731</td><td>10081</td><td>23,8199996948242</td></tr>",
                            "<tr><td>654</td><td>12109</td><td>23,8199996948242</td></tr>",
                            "<tr><td>683</td><td>10147</td><td>23,8500003814697</td></tr>",
                            "<tr><td>689</td><td>11404</td><td>23,8899993896484</td></tr>",
                            "<tr><td>697</td><td>10320</td><td>23,8899993896484</td></tr>",
                            "<tr><td>621</td><td>12627</td><td>23,8899993896484</td></tr>",
                            "<tr><td>745</td><td>6815</td><td>23,8899993896484</td></tr>",
                            "<tr><td>709</td><td>4188</td><td>23,8899993896484</td></tr>",
                            "<tr><td>591</td><td>10524</td><td>23,9300003051758</td></tr>",
                            "<tr><td>659</td><td>10742</td><td>23,9599990844727</td></tr>",
                            "<tr><td>634</td><td>10145</td><td>23,9599990844727</td></tr>",
                            "<tr><td>708</td><td>11835</td><td>23,9599990844727</td></tr>",
                            "<tr><td>659</td><td>10725</td><td>23,9599990844727</td></tr>",
                            "<tr><td>645</td><td>10762</td><td>23,9599990844727</td></tr>",
                            "<tr><td>837</td><td>5563</td><td>24</td></tr>",
                            "<tr><td>484</td><td>20031</td><td>24</td></tr>",
                            "</table>"
                        ]
                    }
                }
            ],
            "execution_count": 10
        },
        {
            "cell_type": "markdown",
            "source": [
                "## Sedentary Minutes vs. Heartrate levels"
            ],
            "metadata": {
                "azdata_cell_guid": "d8d50f6e-7c11-4ea6-bdef-0b2790120f01"
            },
            "attachments": {}
        },
        {
            "cell_type": "code",
            "source": [
                "-- a relation between how much time people spend sedentary and how it affects their heart\r\n",
                "WITH dailyHeartrate AS\r\n",
                "(\r\n",
                "    SELECT TOP 20\r\n",
                "        Id, \r\n",
                "        Date,\r\n",
                "        HeartrateLevel,\r\n",
                "        COUNT(*) AS Frequency\r\n",
                "FROM heartrateMinutes\r\n",
                "GROUP BY Id, Date, HeartrateLevel\r\n",
                ")\r\n",
                "SELECT \r\n",
                "    SedentaryMinutes,\r\n",
                "    dailyHeartrate.HeartrateLevel,\r\n",
                "    dailyHeartrate.Frequency\r\n",
                "FROM dailyActivity\r\n",
                "INNER JOIN dailyHeartrate ON\r\n",
                "(dailyActivity.Id = dailyHeartrate.Id AND\r\n",
                " dailyActivity.Date = dailyHeartrate.Date)\r\n",
                "ORDER BY SedentaryMinutes DESC;"
            ],
            "metadata": {
                "azdata_cell_guid": "9fe77388-c819-4e1b-8fb5-37d429e2cf86",
                "language": "sql"
            },
            "outputs": [
                {
                    "output_type": "display_data",
                    "data": {
                        "text/html": "(20 rows affected)"
                    },
                    "metadata": {}
                },
                {
                    "output_type": "display_data",
                    "data": {
                        "text/html": "Total execution time: 00:00:00.224"
                    },
                    "metadata": {}
                },
                {
                    "output_type": "execute_result",
                    "metadata": {},
                    "execution_count": 11,
                    "data": {
                        "application/vnd.dataresource+json": {
                            "schema": {
                                "fields": [
                                    {
                                        "name": "SedentaryMinutes"
                                    },
                                    {
                                        "name": "HeartrateLevel"
                                    },
                                    {
                                        "name": "Frequency"
                                    }
                                ]
                            },
                            "data": [
                                {
                                    "0": "1438",
                                    "1": "Normal",
                                    "2": "2"
                                },
                                {
                                    "0": "1318",
                                    "1": "High",
                                    "2": "129"
                                },
                                {
                                    "0": "1240",
                                    "1": "Normal",
                                    "2": "807"
                                },
                                {
                                    "0": "1238",
                                    "1": "Normal",
                                    "2": "620"
                                },
                                {
                                    "0": "1152",
                                    "1": "Low",
                                    "2": "22"
                                },
                                {
                                    "0": "1123",
                                    "1": "High",
                                    "2": "8"
                                },
                                {
                                    "0": "1119",
                                    "1": "High",
                                    "2": "57"
                                },
                                {
                                    "0": "1048",
                                    "1": "Low",
                                    "2": "73"
                                },
                                {
                                    "0": "1040",
                                    "1": "High",
                                    "2": "48"
                                },
                                {
                                    "0": "858",
                                    "1": "Low",
                                    "2": "858"
                                },
                                {
                                    "0": "764",
                                    "1": "Low",
                                    "2": "5"
                                },
                                {
                                    "0": "732",
                                    "1": "High",
                                    "2": "51"
                                },
                                {
                                    "0": "696",
                                    "1": "Low",
                                    "2": "597"
                                },
                                {
                                    "0": "670",
                                    "1": "Normal",
                                    "2": "685"
                                },
                                {
                                    "0": "662",
                                    "1": "High",
                                    "2": "144"
                                },
                                {
                                    "0": "659",
                                    "1": "High",
                                    "2": "116"
                                },
                                {
                                    "0": "653",
                                    "1": "Normal",
                                    "2": "1297"
                                },
                                {
                                    "0": "623",
                                    "1": "Low",
                                    "2": "137"
                                },
                                {
                                    "0": "623",
                                    "1": "Normal",
                                    "2": "1112"
                                },
                                {
                                    "0": "508",
                                    "1": "Low",
                                    "2": "752"
                                }
                            ]
                        },
                        "text/html": [
                            "<table>",
                            "<tr><th>SedentaryMinutes</th><th>HeartrateLevel</th><th>Frequency</th></tr>",
                            "<tr><td>1438</td><td>Normal</td><td>2</td></tr>",
                            "<tr><td>1318</td><td>High</td><td>129</td></tr>",
                            "<tr><td>1240</td><td>Normal</td><td>807</td></tr>",
                            "<tr><td>1238</td><td>Normal</td><td>620</td></tr>",
                            "<tr><td>1152</td><td>Low</td><td>22</td></tr>",
                            "<tr><td>1123</td><td>High</td><td>8</td></tr>",
                            "<tr><td>1119</td><td>High</td><td>57</td></tr>",
                            "<tr><td>1048</td><td>Low</td><td>73</td></tr>",
                            "<tr><td>1040</td><td>High</td><td>48</td></tr>",
                            "<tr><td>858</td><td>Low</td><td>858</td></tr>",
                            "<tr><td>764</td><td>Low</td><td>5</td></tr>",
                            "<tr><td>732</td><td>High</td><td>51</td></tr>",
                            "<tr><td>696</td><td>Low</td><td>597</td></tr>",
                            "<tr><td>670</td><td>Normal</td><td>685</td></tr>",
                            "<tr><td>662</td><td>High</td><td>144</td></tr>",
                            "<tr><td>659</td><td>High</td><td>116</td></tr>",
                            "<tr><td>653</td><td>Normal</td><td>1297</td></tr>",
                            "<tr><td>623</td><td>Low</td><td>137</td></tr>",
                            "<tr><td>623</td><td>Normal</td><td>1112</td></tr>",
                            "<tr><td>508</td><td>Low</td><td>752</td></tr>",
                            "</table>"
                        ]
                    }
                }
            ],
            "execution_count": 11
        }
    ]
}